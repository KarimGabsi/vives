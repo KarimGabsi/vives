{
 "cells": [
  {
   "cell_type": "markdown",
   "metadata": {
    "id": "Yb8VjqsUpq6l"
   },
   "source": [
    "<img src=\"data:image/png;base64,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\" align=\"right\" /><br>\n",
    "\n",
    "\n",
    "**INTRODUCTION TO ARTIFICIAL INTELLIGENCE**<br>\n",
    "Andy Louwyck<br>\n",
    "Stefaan Haspeslagh\n",
    "\n",
    "---\n",
    "\n",
    "\n",
    "\n",
    "---\n",
    "\n"
   ]
  },
  {
   "cell_type": "markdown",
   "metadata": {
    "id": "zvofIqoZWO6Q"
   },
   "source": [
    "# SLIDING PUZZLE"
   ]
  },
  {
   "cell_type": "markdown",
   "metadata": {
    "id": "mFfqkZxpWSFK"
   },
   "source": [
    "In deze notebook tonen we hoe we een \"sliding puzzle\" (https://en.wikipedia.org/wiki/Sliding_puzzle) kunnen modelleren mbv de **state-space representation**."
   ]
  },
  {
   "cell_type": "markdown",
   "metadata": {
    "id": "mPWSEAsRXGCx"
   },
   "source": [
    "## **Superklassen `State` en `Move`**"
   ]
  },
  {
   "cell_type": "markdown",
   "metadata": {
    "id": "7majTyhZb6b9"
   },
   "source": [
    "Belangrijke concepten zijn:\n",
    "- toestand (Engels: state)\n",
    "- doel (Engels: goal)\n",
    "- zet (Engels: move)\n",
    "\n",
    "We definiëren superklassen `State` en `Move` om deze concepten te implementeren."
   ]
  },
  {
   "cell_type": "markdown",
   "metadata": {
    "id": "9tUtj4-BeRuo"
   },
   "source": [
    "Klasse `State`:\n",
    "- methode `calculate_moves`: geeft de zetten die mogelijk zijn vanuit de huidige toestand door toepassen van de productieregels\n",
    "- methode `apply_move`: past een zet toe op de huidige toestand waardoor we een nieuwe toestand krijgen\n",
    "- methode `is_goal`: checkt of de huidige toestand een eindtoestand waarmee het doel is bereikt."
   ]
  },
  {
   "cell_type": "code",
   "execution_count": 1,
   "metadata": {
    "executionInfo": {
     "elapsed": 240,
     "status": "ok",
     "timestamp": 1647193555867,
     "user": {
      "displayName": "Andy Louwyck",
      "photoUrl": "https://lh3.googleusercontent.com/a/default-user=s64",
      "userId": "12233616324594742218"
     },
     "user_tz": -60
    },
    "id": "FviF7QItFOr7"
   },
   "outputs": [],
   "source": [
    "from abc import ABC, abstractmethod\n",
    "\n",
    "class State(ABC):\n",
    "\n",
    "    @abstractmethod\n",
    "    def calculate_moves(self):\n",
    "        # Op een state wordt deze methode aangeroepen om volgens de production rules\n",
    "        # de moves te berekenen die het probleem in een nieuwe toestand kunnen brengen.\n",
    "        # Deze functie geeft dus een lijst van moves terug (eventueel leeg).\n",
    "        pass\n",
    "\n",
    "    @abstractmethod\n",
    "    def apply_move(self, move):\n",
    "        # Op een state kan een move toegepast worden om naar een volgende state over te gaan.\n",
    "        # Deze functie geeft dus een nieuwe state terug.\n",
    "        pass\n",
    "        \n",
    "    @abstractmethod\n",
    "    def is_goal(self):\n",
    "        # Controleert of een state de `goal state` is.\n",
    "        # Retourneert dus een booleaanse waarde.\n",
    "        pass"
   ]
  },
  {
   "cell_type": "markdown",
   "metadata": {
    "id": "it7m4DB9eN4U"
   },
   "source": [
    "Klasse `Move`\n",
    "- methode `apply`: past zichzelf (`self`) toe op een gegeven toestand (`state`) "
   ]
  },
  {
   "cell_type": "code",
   "execution_count": 2,
   "metadata": {
    "executionInfo": {
     "elapsed": 8,
     "status": "ok",
     "timestamp": 1647193556102,
     "user": {
      "displayName": "Andy Louwyck",
      "photoUrl": "https://lh3.googleusercontent.com/a/default-user=s64",
      "userId": "12233616324594742218"
     },
     "user_tz": -60
    },
    "id": "7kvbphsseI-k"
   },
   "outputs": [],
   "source": [
    "class Move:\n",
    "    def __init__(self, state):\n",
    "        self.state = state\n",
    "    def apply(self):\n",
    "        return self.state.apply_move(self)"
   ]
  },
  {
   "cell_type": "markdown",
   "metadata": {
    "id": "4OgV6uOOeYE_"
   },
   "source": [
    "We gebruiken `pass` in klasse `State` omdat de methodes moeten worden geïmplementeerd door de subklassen. (Men noemt dit een abstracte klasse). "
   ]
  },
  {
   "cell_type": "markdown",
   "metadata": {
    "id": "lp0AAK64fF3H"
   },
   "source": [
    "## **Subklassen `Puzzle` en `Slide`**"
   ]
  },
  {
   "cell_type": "markdown",
   "metadata": {
    "id": "_XQnlWYNgR9Y"
   },
   "source": [
    "Bij de sliding puzzle:\n",
    "- state: een bepaalde configuratie van de tegeltjes\n",
    "- move: een tegeltje verschuiven\n",
    "- goal: bereikt wanneer alle tegeltjes in de juiste volgorde liggen  "
   ]
  },
  {
   "cell_type": "markdown",
   "metadata": {
    "id": "yG6ctAydgwAT"
   },
   "source": [
    "Hoe voorstellen?\n",
    " - state:\n",
    "  - de positie van de tegeltjes op het bord\n",
    "  - n x n matrix, met n = aantal rijen = aantal kolommen\n",
    "  - alle vakjes zijn genummerd van 0 t.e.m. n²-1, waarbij 0 het lege vakje is\n",
    " - move: \n",
    "  - een tegeltje verschuiven\n",
    "  - het lege vakje beweegt \n",
    "    - naar links \n",
    "    - naar rechts\n",
    "    - naar boven\n",
    "    - of naar onder\n",
    "  - het element 0 in de matrix omwisselen met\n",
    "    - het element links\n",
    "    - het element rechts\n",
    "    - het element boven\n",
    "    - of het element onder\n",
    "  - checken of het lege vakje niet aan de rand ligt:\n",
    "    - element 0 in kolom 0: kan niet wisselen met element links\n",
    "    - element 0 in kolom n-1: kan niet wisselen met element rechts\n",
    "    - element 0 in rij 0: kan niet wisselen met element boven\n",
    "    - element 0 in rij n-1: kan niet wisselen met element onder\n",
    "  - volgorde links, rechts, boven, onder is conventie die we respecteren!"
   ]
  },
  {
   "cell_type": "markdown",
   "metadata": {
    "id": "hemcRhxOjgAG"
   },
   "source": [
    "### Voorbeeld: puzzle met 4 vakjes"
   ]
  },
  {
   "cell_type": "markdown",
   "metadata": {
    "id": "wSsh7jdQkk48"
   },
   "source": [
    "![2-puzzle.JPG](data:image/jpeg;base64,/9j/4AAQSkZJRgABAQEAYABgAAD/4RDoRXhpZgAATU0AKgAAAAgABAE7AAIAAAAKAAAISodpAAQAAAABAAAIVJydAAEAAAAUAAAQzOocAAcAAAgMAAAAPgAAAAAc6gAAAAgAAAAAAAAAAAAAAAAAAAAAAAAAAAAAAAAAAAAAAAAAAAAAAAAAAAAAAAAAAAAAAAAAAAAAAAAAAAAAAAAAAAAAAAAAAAAAAAAAAAAAAAAAAAAAAAAAAAAAAAAAAAAAAAAAAAAAAAAAAAAAAAAAAAAAAAAAAAAAAAAAAAAAAAAAAAAAAAAAAAAAAAAAAAAAAAAAAAAAAAAAAAAAAAAAAAAAAAAAAAAAAAAAAAAAAAAAAAAAAAAAAAAAAAAAAAAAAAAAAAAAAAAAAAAAAAAAAAAAAAAAAAAAAAAAAAAAAAAAAAAAAAAAAAAAAAAAAAAAAAAAAAAAAAAAAAAAAAAAAAAAAAAAAAAAAAAAAAAAAAAAAAAAAAAAAAAAAAAAAAAAAAAAAAAAAAAAAAAAAAAAAAAAAAAAAAAAAAAAAAAAAAAAAAAAAAAAAAAAAAAAAAAAAAAAAAAAAAAAAAAAAAAAAAAAAAAAAAAAAAAAAAAAAAAAAAAAAAAAAAAAAAAAAAAAAAAAAAAAAAAAAAAAAAAAAAAAAAAAAAAAAAAAAAAAAAAAAAAAAAAAAAAAAAAAAAAAAAAAAAAAAAAAAAAAAAAAAAAAAAAAAAAAAAAAAAAAAAAAAAAAAAAAAAAAAAAAAAAAAAAAAAAAAAAAAAAAAAAAAAAAAAAAAAAAAAAAAAAAAAAAAAAAAAAAAAAAAAAAAAAAAAAAAAAAAAAAAAAAAAAAAAAAAAAAAAAAAAAAAAAAAAAAAAAAAAAAAAAAAAAAAAAAAAAAAAAAAAAAAAAAAAAAAAAAAAAAAAAAAAAAAAAAAAAAAAAAAAAAAAAAAAAAAAAAAAAAAAAAAAAAAAAAAAAAAAAAAAAAAAAAAAAAAAAAAAAAAAAAAAAAAAAAAAAAAAAAAAAAAAAAAAAAAAAAAAAAAAAAAAAAAAAAAAAAAAAAAAAAAAAAAAAAAAAAAAAAAAAAAAAAAAAAAAAAAAAAAAAAAAAAAAAAAAAAAAAAAAAAAAAAAAAAAAAAAAAAAAAAAAAAAAAAAAAAAAAAAAAAAAAAAAAAAAAAAAAAAAAAAAAAAAAAAAAAAAAAAAAAAAAAAAAAAAAAAAAAAAAAAAAAAAAAAAAAAAAAAAAAAAAAAAAAAAAAAAAAAAAAAAAAAAAAAAAAAAAAAAAAAAAAAAAAAAAAAAAAAAAAAAAAAAAAAAAAAAAAAAAAAAAAAAAAAAAAAAAAAAAAAAAAAAAAAAAAAAAAAAAAAAAAAAAAAAAAAAAAAAAAAAAAAAAAAAAAAAAAAAAAAAAAAAAAAAAAAAAAAAAAAAAAAAAAAAAAAAAAAAAAAAAAAAAAAAAAAAAAAAAAAAAAAAAAAAAAAAAAAAAAAAAAAAAAAAAAAAAAAAAAAAAAAAAAAAAAAAAAAAAAAAAAAAAAAAAAAAAAAAAAAAAAAAAAAAAAAAAAAAAAAAAAAAAAAAAAAAAAAAAAAAAAAAAAAAAAAAAAAAAAAAAAAAAAAAAAAAAAAAAAAAAAAAAAAAAAAAAAAAAAAAAAAAAAAAAAAAAAAAAAAAAAAAAAAAAAAAAAAAAAAAAAAAAAAAAAAAAAAAAAAAAAAAAAAAAAAAAAAAAAAAAAAAAAAAAAAAAAAAAAAAAAAAAAAAAAAAAAAAAAAAAAAAAAAAAAAAAAAAAAAAAAAAAAAAAAAAAAAAAAAAAAAAAAAAAAAAAAAAAAAAAAAAAAAAAAAAAAAAAAAAAAAAAAAAAAAAAAAAAAAAAAAAAAAAAAAAAAAAAAAAAAAAAAAAAAAAAAAAAAAAAAAAAAAAAAAAAAAAAAAAAAAAAAAAAAAAAAAAAAAAAAAAAAAAAAAAAAAAAAAAAAAAAAAAAAAAAAAAAAAAAAAAAAAAAAAAAAAAAAAAAAAAAAAAAAAAAAAAAAAAAAAAAAAAAAAAAAAAAAAAAAAAAAAAAAAAAAAAAAAAAAAAAAAAAAAAAAAAAAAAAAAAAAAAAAAAAAAAAAAAAAAAAAAAAAAAAAAAAAAAAAAAAAAAAAAAAAAAAAAAAAAAAAAAAAAAAAAAAAAAAAAAAAAAAAAAAAAAAAAAAAAAAAAAAAAAAAAAAAAAAAAAAAAAAAAAAAAAAAAAAAAAAAAAAAAAAAAAAAAAAAAAAAAAAAAAAAAAAAAAAAAAAAAAAAAAAAAAAAAAAAAAAAAAAAAAAAAAAAAAAAAAAAAAAAAAAAAAAAAAAAAAAAAAAAAAAAAAAAAAAAAAAAAAAAAAAAAAAAAAAAAAAAAAAAAAAAAAAAAAAAAAAAAAAAAAAAAAAAAAAAAAAAAAAAAAAAAAAAAAAAAAAAAAAAAAAAAAAAAAAAAAAAAAAAAAAAAAAAAAAAAAAAAAAAAAAAAAAAAAAAAAAAAAAAAAAAAAAAAAAAAAAAAAAAAAAAAAAAAAAAAAAAAAAAAAAAAAAAAAAAAAAAAAAAAAAAAAAAAAAAAAAAAAAAAAAAAAAAAAAAAAAAAAAAAAAAAAAAAAAAAAAAAAAAAAAAAAAAAAAAAAAAAAAAAAAAAAAAAAAAAAAAAAAAAAAAAAAAAAAAAAAAAAAAAAAAAAAAAAAAAAAAAAAAAAAAAAAAAAAAAAAAAAAAAAAAAAAAAAAAAAAAAAAAAAAAAAAAAAAAAAAAAAAAAAAAAAAAAAAAAAAAAAAAAAAAAAAAAAAAAAAAAAAAAAAAAAAAAAAAAAAAAAAAAAAAAAAAAAAAAAAAAAAAAAAAAAAAAAAAAAAAAAAAAAAAAAAAAEdlYnJ1aWtlcgAABZADAAIAAAAUAAAQopAEAAIAAAAUAAAQtpKRAAIAAAADMTgAAJKSAAIAAAADMTgAAOocAAcAAAgMAAAIlgAAAAAc6gAAAAgAAAAAAAAAAAAAAAAAAAAAAAAAAAAAAAAAAAAAAAAAAAAAAAAAAAAAAAAAAAAAAAAAAAAAAAAAAAAAAAAAAAAAAAAAAAAAAAAAAAAAAAAAAAAAAAAAAAAAAAAAAAAAAAAAAAAAAAAAAAAAAAAAAAAAAAAAAAAAAAAAAAAAAAAAAAAAAAAAAAAAAAAAAAAAAAAAAAAAAAAAAAAAAAAAAAAAAAAAAAAAAAAAAAAAAAAAAAAAAAAAAAAAAAAAAAAAAAAAAAAAAAAAAAAAAAAAAAAAAAAAAAAAAAAAAAAAAAAAAAAAAAAAAAAAAAAAAAAAAAAAAAAAAAAAAAAAAAAAAAAAAAAAAAAAAAAAAAAAAAAAAAAAAAAAAAAAAAAAAAAAAAAAAAAAAAAAAAAAAAAAAAAAAAAAAAAAAAAAAAAAAAAAAAAAAAAAAAAAAAAAAAAAAAAAAAAAAAAAAAAAAAAAAAAAAAAAAAAAAAAAAAAAAAAAAAAAAAAAAAAAAAAAAAAAAAAAAAAAAAAAAAAAAAAAAAAAAAAAAAAAAAAAAAAAAAAAAAAAAAAAAAAAAAAAAAAAAAAAAAAAAAAAAAAAAAAAAAAAAAAAAAAAAAAAAAAAAAAAAAAAAAAAAAAAAAAAAAAAAAAAAAAAAAAAAAAAAAAAAAAAAAAAAAAAAAAAAAAAAAAAAAAAAAAAAAAAAAAAAAAAAAAAAAAAAAAAAAAAAAAAAAAAAAAAAAAAAAAAAAAAAAAAAAAAAAAAAAAAAAAAAAAAAAAAAAAAAAAAAAAAAAAAAAAAAAAAAAAAAAAAAAAAAAAAAAAAAAAAAAAAAAAAAAAAAAAAAAAAAAAAAAAAAAAAAAAAAAAAAAAAAAAAAAAAAAAAAAAAAAAAAAAAAAAAAAAAAAAAAAAAAAAAAAAAAAAAAAAAAAAAAAAAAAAAAAAAAAAAAAAAAAAAAAAAAAAAAAAAAAAAAAAAAAAAAAAAAAAAAAAAAAAAAAAAAAAAAAAAAAAAAAAAAAAAAAAAAAAAAAAAAAAAAAAAAAAAAAAAAAAAAAAAAAAAAAAAAAAAAAAAAAAAAAAAAAAAAAAAAAAAAAAAAAAAAAAAAAAAAAAAAAAAAAAAAAAAAAAAAAAAAAAAAAAAAAAAAAAAAAAAAAAAAAAAAAAAAAAAAAAAAAAAAAAAAAAAAAAAAAAAAAAAAAAAAAAAAAAAAAAAAAAAAAAAAAAAAAAAAAAAAAAAAAAAAAAAAAAAAAAAAAAAAAAAAAAAAAAAAAAAAAAAAAAAAAAAAAAAAAAAAAAAAAAAAAAAAAAAAAAAAAAAAAAAAAAAAAAAAAAAAAAAAAAAAAAAAAAAAAAAAAAAAAAAAAAAAAAAAAAAAAAAAAAAAAAAAAAAAAAAAAAAAAAAAAAAAAAAAAAAAAAAAAAAAAAAAAAAAAAAAAAAAAAAAAAAAAAAAAAAAAAAAAAAAAAAAAAAAAAAAAAAAAAAAAAAAAAAAAAAAAAAAAAAAAAAAAAAAAAAAAAAAAAAAAAAAAAAAAAAAAAAAAAAAAAAAAAAAAAAAAAAAAAAAAAAAAAAAAAAAAAAAAAAAAAAAAAAAAAAAAAAAAAAAAAAAAAAAAAAAAAAAAAAAAAAAAAAAAAAAAAAAAAAAAAAAAAAAAAAAAAAAAAAAAAAAAAAAAAAAAAAAAAAAAAAAAAAAAAAAAAAAAAAAAAAAAAAAAAAAAAAAAAAAAAAAAAAAAAAAAAAAAAAAAAAAAAAAAAAAAAAAAAAAAAAAAAAAAAAAAAAAAAAAAAAAAAAAAAAAAAAAAAAAAAAAAAAAAAAAAAAAAAAAAAAAAAAAAAAAAAAAAAAAAAAAAAAAAAAAAAAAAAAAAAAAAAAAAAAAAAAAAAAAAAAAAAAAAAAAAAAAAAAAAAAAAAAAAAAAAAAAAAAAAAAAAAAAAAAAAAAAAAAAAAAAAAAAAAAAAAAAAAAAAAAAAAAAAAAAAAAAAAAAAAAAAAAAAAAAAAAAAAAAAAAAAAAAAAAAAAAAAAAAAAAAAAAAAAAAAAAAAAAAAAAAAAAAAAAAAAAAAAAAAAAAAAAAAAAAAAAAAAAAAAAAAAAAAAAAAAAAAAAAAAAAAAAAAAAAAAAAAAAAAAAAAAAAAAAAAAAAAAAAAAAAAAAAAAAAAAAAAAAAAAAAAAAAAAAAAAAAAAAAAAAAAAAAAAAAAAAAAAAAAAAAAAAAAAAAAAAAAAAAAAAAAAAAAAAAAAAAAAAAAAAAAAAAAAAAAAAAAAAAAAAAAAAAAAAAAAAAAAAAAAAAAAAAAAAAAAAAAAAAAAAAAAAAAAAAAAAAAAAAAAAAAAAAAAAAAAAAAAAAAAAAAAAAAAAAAAAAAAAAAAAAAAAAAAAAAAAAAAAAAAAAAAAAAAAAAAAAAAAAAAAAAAAAAAAAAAAAAAAAAAAAAAAAAAAAAAAAAAAAAAAAAAAAAAAAAAAAAAAAAAAAAAAAAAAAAAAAAAAAAAAAAAAAAAAAAAAAAAAAAAAAAAAAAAAAAAAAAAAAAAAAAAAAAAAAAAAAAAAAAAAAAAAAAAAAAAAAAAAAAAAAAAAAAAAAAAAAAAAAAAAAAAAAAAAAAAAAAAAAAAAAAAAAAAAAAAAAAAAAAAAAAAAAAAAAAAAAAAAAAAAAAAAAAAAAAAAAAAAAAAAAAAAAAAAAAAAAAAAAAAAAAAAAAAAAAAAAAAAAAAAAAAAAAAAAAAAAAAAAAAAAAAAAAAAAAAAAAAAAAAAAAAAADIwMjE6MDM6MDcgMTM6MDI6NTAAMjAyMTowMzowNyAxMzowMjo1MAAAAEcAZQBiAHIAdQBpAGsAZQByAAAA/+ELHGh0dHA6Ly9ucy5hZG9iZS5jb20veGFwLzEuMC8APD94cGFja2V0IGJlZ2luPSfvu78nIGlkPSdXNU0wTXBDZWhpSHpyZVN6TlRjemtjOWQnPz4NCjx4OnhtcG1ldGEgeG1sbnM6eD0iYWRvYmU6bnM6bWV0YS8iPjxyZGY6UkRGIHhtbG5zOnJkZj0iaHR0cDovL3d3dy53My5vcmcvMTk5OS8wMi8yMi1yZGYtc3ludGF4LW5zIyI+PHJkZjpEZXNjcmlwdGlvbiByZGY6YWJvdXQ9InV1aWQ6ZmFmNWJkZDUtYmEzZC0xMWRhLWFkMzEtZDMzZDc1MTgyZjFiIiB4bWxuczpkYz0iaHR0cDovL3B1cmwub3JnL2RjL2VsZW1lbnRzLzEuMS8iLz48cmRmOkRlc2NyaXB0aW9uIHJkZjphYm91dD0idXVpZDpmYWY1YmRkNS1iYTNkLTExZGEtYWQzMS1kMzNkNzUxODJmMWIiIHhtbG5zOnhtcD0iaHR0cDovL25zLmFkb2JlLmNvbS94YXAvMS4wLyI+PHhtcDpDcmVhdGVEYXRlPjIwMjEtMDMtMDdUMTM6MDI6NTAuMTc2PC94bXA6Q3JlYXRlRGF0ZT48L3JkZjpEZXNjcmlwdGlvbj48cmRmOkRlc2NyaXB0aW9uIHJkZjphYm91dD0idXVpZDpmYWY1YmRkNS1iYTNkLTExZGEtYWQzMS1kMzNkNzUxODJmMWIiIHhtbG5zOmRjPSJodHRwOi8vcHVybC5vcmcvZGMvZWxlbWVudHMvMS4xLyI+PGRjOmNyZWF0b3I+PHJkZjpTZXEgeG1sbnM6cmRmPSJodHRwOi8vd3d3LnczLm9yZy8xOTk5LzAyLzIyLXJkZi1zeW50YXgtbnMjIj48cmRmOmxpPkdlYnJ1aWtlcjwvcmRmOmxpPjwvcmRmOlNlcT4NCgkJCTwvZGM6Y3JlYXRvcj48L3JkZjpEZXNjcmlwdGlvbj48L3JkZjpSREY+PC94OnhtcG1ldGE+DQogICAgICAgICAgICAgICAgICAgICAgICAgICAgICAgICAgICAgICAgICAgICAgICAgICAgICAgICAgICAgICAgICAgICAgICAgICAgICAgICAgICAgICAgICAgICAgICAgICAgCiAgICAgICAgICAgICAgICAgICAgICAgICAgICAgICAgICAgICAgICAgICAgICAgICAgICAgICAgICAgICAgICAgICAgICAgICAgICAgICAgICAgICAgICAgICAgICAgICAgICAKICAgICAgICAgICAgICAgICAgICAgICAgICAgICAgICAgICAgICAgICAgICAgICAgICAgICAgICAgICAgICAgICAgICAgICAgICAgICAgICAgICAgICAgICAgICAgICAgICAgIAogICAgICAgICAgICAgICAgICAgICAgICAgICAgICAgICAgICAgICAgICAgICAgICAgICAgICAgICAgICAgICAgICAgICAgICAgICAgICAgICAgICAgICAgICAgICAgICAgICAgCiAgICAgICAgICAgICAgICAgICAgICAgICAgICAgICAgICAgICAgICAgICAgICAgICAgICAgICAgICAgICAgICAgICAgICAgICAgICAgICAgICAgICAgICAgICAgICAgICAgICAKICAgICAgICAgICAgICAgICAgICAgICAgICAgICAgICAgICAgICAgICAgICAgICAgICAgICAgICAgICAgICAgICAgICAgICAgICAgICAgICAgICAgICAgICAgICAgICAgICAgIAogICAgICAgICAgICAgICAgICAgICAgICAgICAgICAgICAgICAgICAgICAgICAgICAgICAgICAgICAgICAgICAgICAgICAgICAgICAgICAgICAgICAgICAgICAgICAgICAgICAgCiAgICAgICAgICAgICAgICAgICAgICAgICAgICAgICAgICAgICAgICAgICAgICAgICAgICAgICAgICAgICAgICAgICAgICAgICAgICAgICAgICAgICAgICAgICAgICAgICAgICAKICAgICAgICAgICAgICAgICAgICAgICAgICAgICAgICAgICAgICAgICAgICAgICAgICAgICAgICAgICAgICAgICAgICAgICAgICAgICAgICAgICAgICAgICAgICAgICAgICAgIAogICAgICAgICAgICAgICAgICAgICAgICAgICAgICAgICAgICAgICAgICAgICAgICAgICAgICAgICAgICAgICAgICAgICAgICAgICAgICAgICAgICAgICAgICAgICAgICAgICAgCiAgICAgICAgICAgICAgICAgICAgICAgICAgICAgICAgICAgICAgICAgICAgICAgICAgICAgICAgICAgICAgICAgICAgICAgICAgICAgICAgICAgICAgICAgICAgICAgICAgICAKICAgICAgICAgICAgICAgICAgICAgICAgICAgICAgICAgICAgICAgICAgICAgICAgICAgICAgICAgICAgICAgICAgICAgICAgICAgICAgICAgICAgICAgICAgICAgICAgICAgIAogICAgICAgICAgICAgICAgICAgICAgICAgICAgICAgICAgICAgICAgICAgICAgICAgICAgICAgICAgICAgICAgICAgICAgICAgICAgICAgICAgICAgICAgICAgICAgICAgICAgCiAgICAgICAgICAgICAgICAgICAgICAgICAgICAgICAgICAgICAgICAgICAgICAgICAgICAgICAgICAgICAgICAgICAgICAgICAgICAgICAgICAgICAgICAgICAgICAgICAgICAKICAgICAgICAgICAgICAgICAgICAgICAgICAgICAgICAgICAgICAgICAgICAgICAgICAgICAgICAgICAgICAgICAgICAgICAgICAgICAgICAgICAgICAgICAgICAgICAgICAgIAogICAgICAgICAgICAgICAgICAgICAgICAgICAgICAgICAgICAgICAgICAgICAgICAgICAgICAgICAgICAgICAgICAgICAgICAgICAgICAgICAgICAgICAgICAgICAgICAgICAgCiAgICAgICAgICAgICAgICAgICAgICAgICAgICAgICAgICAgICAgICAgICAgICAgICAgICAgICAgICAgICAgICAgICAgICAgICAgICAgICAgICAgICAgICAgICAgICAgICAgICAKICAgICAgICAgICAgICAgICAgICAgICAgICAgICAgICAgICAgICAgICAgICAgICAgICAgICAgICAgICAgICAgICAgICAgICAgICAgICAgICAgICAgICAgICAgICAgICAgICAgIAogICAgICAgICAgICAgICAgICAgICAgICAgICAgICAgICAgICAgICAgICAgICAgICAgICAgICAgICAgICAgICAgICAgICAgICAgICAgICAgICAgICAgICAgICAgICAgICAgICAgCiAgICAgICAgICAgICAgICAgICAgICAgICAgICAgICAgICAgICAgICAgICAgICAgICAgICAgICAgICAgICAgICAgICAgICAgICAgICAgICAgICAgICAgICAgICAgICAgICAgICAKICAgICAgICAgICAgICAgICAgICAgICAgICAgIDw/eHBhY2tldCBlbmQ9J3cnPz7/2wBDAAcFBQYFBAcGBQYIBwcIChELCgkJChUPEAwRGBUaGRgVGBcbHichGx0lHRcYIi4iJSgpKywrGiAvMy8qMicqKyr/2wBDAQcICAoJChQLCxQqHBgcKioqKioqKioqKioqKioqKioqKioqKioqKioqKioqKioqKioqKioqKioqKioqKioqKir/wAARCAB5AHoDASIAAhEBAxEB/8QAHwAAAQUBAQEBAQEAAAAAAAAAAAECAwQFBgcICQoL/8QAtRAAAgEDAwIEAwUFBAQAAAF9AQIDAAQRBRIhMUEGE1FhByJxFDKBkaEII0KxwRVS0fAkM2JyggkKFhcYGRolJicoKSo0NTY3ODk6Q0RFRkdISUpTVFVWV1hZWmNkZWZnaGlqc3R1dnd4eXqDhIWGh4iJipKTlJWWl5iZmqKjpKWmp6ipqrKztLW2t7i5usLDxMXGx8jJytLT1NXW19jZ2uHi4+Tl5ufo6erx8vP09fb3+Pn6/8QAHwEAAwEBAQEBAQEBAQAAAAAAAAECAwQFBgcICQoL/8QAtREAAgECBAQDBAcFBAQAAQJ3AAECAxEEBSExBhJBUQdhcRMiMoEIFEKRobHBCSMzUvAVYnLRChYkNOEl8RcYGRomJygpKjU2Nzg5OkNERUZHSElKU1RVVldYWVpjZGVmZ2hpanN0dXZ3eHl6goOEhYaHiImKkpOUlZaXmJmaoqOkpaanqKmqsrO0tba3uLm6wsPExcbHyMnK0tPU1dbX2Nna4uPk5ebn6Onq8vP09fb3+Pn6/9oADAMBAAIRAxEAPwD3/wAQ+IdL8K6Dcazr1z9k0+22+bN5bPt3MEHyqCT8zAcDvXEf8NB/DH/oZv8AyQuf/jdH7Qf/ACQnxD/27f8ApTFXxLQB9tf8NB/DH/oZv/JC5/8AjdH/AA0H8Mf+hm/8kLn/AON18S0UAfbX/DQfwx/6Gb/yQuf/AI3R/wANB/DH/oZv/JC5/wDjdfEtFAH21/w0H8Mf+hm/8kLn/wCN1c0z41+A9auWt9G1a61CdUMjRWuk3crBQQNxCxE4yQM+4r4Zr2D9mj/kpWof9giT/wBHQ00ruwnofTX/AAsTQv8Anjrn/hPX/wD8Zo/4WJoX/PHXP/Cev/8A4zU9Fa+zRPMQf8LE0L/njrn/AIT1/wD/ABmj/hYmhf8APHXP/Cev/wD4zU9FHs0HMQf8LE0L/njrn/hPX/8A8Zo/4WJoX/PHXP8Awnr/AP8AjNT0UezQcxf0PxDp3iO3uJtKedhbTeRMlxay27xvsV8FJFVvuupzjGDWnXJeCP8AkK+L/wDsNJ/6QWldbWT0dizzb9oP/khPiH/t2/8ASmKviWvtr9oP/khPiH/t2/8ASmKviWkAUUUUAFFFFABXsH7NH/JStQ/7BEn/AKOhrx+vYP2aP+Slah/2CJP/AEdDVR+IT2PqGiiiukyCiuc8S3PjBbiO38H6fpTho98l5qk7iNTn7gRBuJxznIFc58MfiRqPi/VNY0XxDp1vZ6ppL7ZWtWJjf5ipABJIwR6nOaSabt/Wg2rK56NRRRTEVPBH/IV8X/8AYaT/ANILSutrkvBH/IV8X/8AYaT/ANILSutrlluzVbHm37Qf/JCfEP8A27f+lMVfEtfbX7Qf/JCfEP8A27f+lMVfEtIYUUUUAFFFFABXsH7NH/JStQ/7BEn/AKOhrx+vYP2aP+Slah/2CJP/AEdDVR+IT2PqGiiiukyOK+JXj+LwRoqLaR/a9bvj5Wn2agsXc8biBzgZHHc4HuKnwo8AXPg/S7vUNcm8/XtXcTXr5yE5JCZ7nLEk+p9ADWx4m+HHhTxhqEd94j0r7ZcxRCFH+0Sx4QEnGEYDqTTfDfw08JeEdUbUfD2k/Y7pozEZPtMsnykgkYdiOwqYpptv+l/W45apJf1/w3Q6qiiiqEVPBH/IV8X/APYaT/0gtK62uS8Ef8hXxf8A9hpP/SC0rra5Zbs1Wx5t+0H/AMkJ8Q/9u3/pTFXxLX3V8ZNL/tz4XX2k+d5H2+7sbbzdu7y995Cu7GRnGc4yK8V/4Zc/6nD/AMpn/wBtpqLewXSPn+ivoD/hlz/qcP8Aymf/AG2j/hlz/qcP/KZ/9tp8kg5kfP8ARX0B/wAMuf8AU4f+Uz/7bR/wy5/1OH/lM/8AttHJIOZHz/XsH7NH/JStQ/7BEn/o6Gug/wCGXP8AqcP/ACmf/ba1PBvwp1L4dfECBdG8R2txPqGl3JZ7rS2ZUWOW34CrOCSS45zxtPBzw4xadxNpo9torn/sfjH/AKDuh/8Agkm/+SqPsfjH/oO6H/4JJv8A5Krcg6Ciuf8AsfjH/oO6H/4JJv8A5Ko+x+Mf+g7of/gkm/8AkqgDoKK5/wCx+Mf+g7of/gkm/wDkqj7H4x/6Duh/+CSb/wCSqANXwR/yFfF//YaT/wBILSutrivhyl5HceK11OeC4uhrS75beAwo3+g2uMIXcjjA+8eeeOldrXLLdmi2OW+In/Ipxf8AYX0z/wBL4KnqD4if8inF/wBhfTP/AEvgqetaexMgooorUgKKKKACufvP+SlaN/2CNQ/9HWddBXP3n/JStG/7BGof+jrOhjOgooooEFFFFABRRRQBU8Ef8hXxf/2Gk/8ASC0rra5LwR/yFfF//YaT/wBILSutrlluzVbHLfET/kU4v+wvpn/pfBU9QfET/kU4v+wvpn/pfBU9a09iZBWX4j0y/wBY0Oax0rV5NHuJSo+1xRB3Rc/MACRgkZGeozmtSs3X9Z/sHR5dQ/s7UNS8sqPs2nQedM2TjIXIzjOT7VpK1tSVe+h5P8DLEaX428fWAnmuRbXscXnTtukk2vMNzHuT1Jr2qvC/hrq2paN8QfEt1qHg/wATxQeItQR7eRtMYLApkc5lJICgbxkjPQ17pTjrCPovyCVvaSt3CufvP+SlaN/2CNQ/9HWddBXP3n/JStG/7BGof+jrOhgdBRRRQI4D4nW3ghEs734i3l2tkcww2qyziF3+9uKxc7scZJxiuY+AAmdvEc2nXMjeHDdbdOtppg8kQ3N1XJKfLt69evNd/wCJfFt74bv0X/hFdX1axkiBFzpUazusmTlDHkEDGDu6c+1cT8LPDerf8LC8Q+L7nR5fD+m6iuy20+ZQkjHcDvZP4fuk892PXrUQ+P5P+n38ip/D939f5nrtFFFWSVPBH/IV8X/9hpP/AEgtK62uS8Ef8hXxf/2Gk/8ASC0rra5Zbs1Wxy3xE/5FOL/sL6Z/6XwVPUHxE/5FOL/sL6Z/6XwVPWtPYmQUUUVqQFFFFABXP3n/ACUrRv8AsEah/wCjrOugrn7z/kpWjf8AYI1D/wBHWdDGdBRRRQIKKKKACiiigCp4I/5Cvi//ALDSf+kFpXW1yXgj/kK+L/8AsNJ/6QWldbXLLdmq2K2oabY6vYSWOq2dvfWkuPMt7mJZI3wQRlWBBwQD9RWJ/wAK48Ef9Cb4f/8ABXB/8TXSUUhnN/8ACuPBH/Qm+H//AAVwf/E0f8K48Ef9Cb4f/wDBXB/8TXSUUAc3/wAK48Ef9Cb4f/8ABXB/8TR/wrjwR/0Jvh//AMFcH/xNdJRQBzf/AArjwR/0Jvh//wAFcH/xNH/CuPBH/Qm+H/8AwVwf/E10lFAHN/8ACuPBH/Qm+H//AAVwf/E0f8K48Ef9Cb4f/wDBXB/8TXSUUAc3/wAK48Ef9Cb4f/8ABXB/8TR/wrjwR/0Jvh//AMFcH/xNdJRQBzf/AArjwR/0Jvh//wAFcH/xNH/CuPBH/Qm+H/8AwVwf/E10lFAFHStF0rQbVrXQ9Ms9Nt3cyNFZ26wozEAFiFAGcADPsKvUUUAf/9k=)"
   ]
  },
  {
   "cell_type": "markdown",
   "metadata": {
    "id": "hqY344D3k_MH"
   },
   "source": [
    "State van het bord voorgesteld adhv een matrix (list van lists):"
   ]
  },
  {
   "cell_type": "code",
   "execution_count": 3,
   "metadata": {
    "colab": {
     "base_uri": "https://localhost:8080/"
    },
    "executionInfo": {
     "elapsed": 9,
     "status": "ok",
     "timestamp": 1647193556103,
     "user": {
      "displayName": "Andy Louwyck",
      "photoUrl": "https://lh3.googleusercontent.com/a/default-user=s64",
      "userId": "12233616324594742218"
     },
     "user_tz": -60
    },
    "id": "miWF3PxHjd1N",
    "outputId": "e7bca9a8-6e61-4b97-d677-7c10b2527c9d"
   },
   "outputs": [
    {
     "data": {
      "text/plain": "[[0, 2], [1, 3]]"
     },
     "execution_count": 3,
     "metadata": {},
     "output_type": "execute_result"
    }
   ],
   "source": [
    "matrix = [[0, 2], \n",
    "          [1, 3]]\n",
    "matrix"
   ]
  },
  {
   "cell_type": "markdown",
   "metadata": {
    "id": "ES6dqTnN1i11"
   },
   "source": [
    "Het lege vakje in de eerste rij en eerste kolom selecteren:"
   ]
  },
  {
   "cell_type": "code",
   "execution_count": 4,
   "metadata": {
    "colab": {
     "base_uri": "https://localhost:8080/"
    },
    "executionInfo": {
     "elapsed": 8,
     "status": "ok",
     "timestamp": 1647193556103,
     "user": {
      "displayName": "Andy Louwyck",
      "photoUrl": "https://lh3.googleusercontent.com/a/default-user=s64",
      "userId": "12233616324594742218"
     },
     "user_tz": -60
    },
    "id": "BNRHI7S5TUBx",
    "outputId": "12b3b2c8-a414-463e-cd28-a91487436765"
   },
   "outputs": [
    {
     "data": {
      "text/plain": "0"
     },
     "execution_count": 4,
     "metadata": {},
     "output_type": "execute_result"
    }
   ],
   "source": [
    "matrix[0][0]  # matrix[rij_index][kolom_index], indices starten bij 0!"
   ]
  },
  {
   "cell_type": "markdown",
   "metadata": {
    "id": "OWk8_6zTlHJE"
   },
   "source": [
    "Tegeltje \"1\" naar boven schuiven, of dus het lege (zwarte) vakje naar onder brengen, komt neer op het omwisselen van de elementen 0 en 1 in de matrix:"
   ]
  },
  {
   "cell_type": "code",
   "execution_count": 5,
   "metadata": {
    "colab": {
     "base_uri": "https://localhost:8080/"
    },
    "executionInfo": {
     "elapsed": 7,
     "status": "ok",
     "timestamp": 1647193556104,
     "user": {
      "displayName": "Andy Louwyck",
      "photoUrl": "https://lh3.googleusercontent.com/a/default-user=s64",
      "userId": "12233616324594742218"
     },
     "user_tz": -60
    },
    "id": "2lR-aw9Qk-DZ",
    "outputId": "88cd0c6d-1016-4a11-f93c-8cacfba9ebc7"
   },
   "outputs": [
    {
     "data": {
      "text/plain": "[[1, 2], [0, 3]]"
     },
     "execution_count": 5,
     "metadata": {},
     "output_type": "execute_result"
    }
   ],
   "source": [
    "matrix[0][0], matrix[1][0] = matrix[1][0], matrix[0][0]\n",
    "matrix"
   ]
  },
  {
   "cell_type": "markdown",
   "source": [
    "### NumPy array"
   ],
   "metadata": {
    "id": "4hPqjdP2mqyD"
   }
  },
  {
   "cell_type": "markdown",
   "source": [
    "- NumPy array gebruiken om positie van tegeltjes bij te houden\n",
    "- Voordeel: we kunnen matrixbewerkingen gebruiken!"
   ],
   "metadata": {
    "id": "BztLRy8VmuwD"
   }
  },
  {
   "cell_type": "code",
   "source": [
    "import numpy as np\n",
    "\n",
    "matrix = np.array(matrix)\n",
    "matrix"
   ],
   "metadata": {
    "colab": {
     "base_uri": "https://localhost:8080/"
    },
    "id": "7WHhwD2qm26X",
    "executionInfo": {
     "status": "ok",
     "timestamp": 1647198169685,
     "user_tz": -60,
     "elapsed": 5,
     "user": {
      "displayName": "Andy Louwyck",
      "photoUrl": "https://lh3.googleusercontent.com/a/default-user=s64",
      "userId": "12233616324594742218"
     }
    },
    "outputId": "3e44757f-0bbc-4128-bf65-cec8a3a1fa17"
   },
   "execution_count": 6,
   "outputs": [
    {
     "ename": "ModuleNotFoundError",
     "evalue": "No module named 'numpy'",
     "output_type": "error",
     "traceback": [
      "\u001B[1;31m---------------------------------------------------------------------------\u001B[0m",
      "\u001B[1;31mModuleNotFoundError\u001B[0m                       Traceback (most recent call last)",
      "Cell \u001B[1;32mIn [6], line 1\u001B[0m\n\u001B[1;32m----> 1\u001B[0m \u001B[38;5;28;01mimport\u001B[39;00m \u001B[38;5;21;01mnumpy\u001B[39;00m \u001B[38;5;28;01mas\u001B[39;00m \u001B[38;5;21;01mnp\u001B[39;00m\n\u001B[0;32m      3\u001B[0m matrix \u001B[38;5;241m=\u001B[39m np\u001B[38;5;241m.\u001B[39marray(matrix)\n\u001B[0;32m      4\u001B[0m matrix\n",
      "\u001B[1;31mModuleNotFoundError\u001B[0m: No module named 'numpy'"
     ]
    }
   ]
  },
  {
   "cell_type": "code",
   "source": [
    "matrix[0, 0]  # vakje bovenaan links"
   ],
   "metadata": {
    "colab": {
     "base_uri": "https://localhost:8080/"
    },
    "id": "VmBanVDJnZ49",
    "executionInfo": {
     "status": "ok",
     "timestamp": 1647198170685,
     "user_tz": -60,
     "elapsed": 8,
     "user": {
      "displayName": "Andy Louwyck",
      "photoUrl": "https://lh3.googleusercontent.com/a/default-user=s64",
      "userId": "12233616324594742218"
     }
    },
    "outputId": "028aae5d-d1cc-4a36-854f-db0f15e0d349"
   },
   "execution_count": null,
   "outputs": []
  },
  {
   "cell_type": "code",
   "source": [
    "irow, icol = np.where(matrix == 0)  # positie van lege vakje\n",
    "irow[0], icol[0]"
   ],
   "metadata": {
    "colab": {
     "base_uri": "https://localhost:8080/"
    },
    "id": "Y7J2GmrQnfJv",
    "executionInfo": {
     "status": "ok",
     "timestamp": 1647198172364,
     "user_tz": -60,
     "elapsed": 245,
     "user": {
      "displayName": "Andy Louwyck",
      "photoUrl": "https://lh3.googleusercontent.com/a/default-user=s64",
      "userId": "12233616324594742218"
     }
    },
    "outputId": "24fcedf2-b155-4ddf-c627-d067aa70c034"
   },
   "execution_count": null,
   "outputs": []
  },
  {
   "cell_type": "code",
   "source": [
    "matrix[1, 0], matrix[1, 1] = matrix[1, 1], matrix[1, 0]  # lege vakje naar rechts verschuiven\n",
    "matrix"
   ],
   "metadata": {
    "colab": {
     "base_uri": "https://localhost:8080/"
    },
    "id": "AWzEDXqmqWCj",
    "executionInfo": {
     "status": "ok",
     "timestamp": 1647198221227,
     "user_tz": -60,
     "elapsed": 227,
     "user": {
      "displayName": "Andy Louwyck",
      "photoUrl": "https://lh3.googleusercontent.com/a/default-user=s64",
      "userId": "12233616324594742218"
     }
    },
    "outputId": "5680ae99-84f4-4434-b0f3-624bdd3a821b"
   },
   "execution_count": null,
   "outputs": []
  },
  {
   "cell_type": "markdown",
   "source": [
    "### Klasse `Slide`"
   ],
   "metadata": {
    "id": "47tEn8LbGeoa"
   }
  },
  {
   "cell_type": "markdown",
   "source": [
    "- Zwarte vakje `(irow, icol)` naar links, rechts, omhoog of omlaag bewegen:\n",
    "  - links: `icol_new = icol - 1`\n",
    "  - rechts: `icol_new = icol + 1`\n",
    "  - omhoog: `irow_new = irow - 1`\n",
    "  - omlaag: `irow_new = irow + 1`\n",
    "- Erft van superklasse `Move`"
   ],
   "metadata": {
    "id": "bhoso5KbIag_"
   }
  },
  {
   "cell_type": "code",
   "source": [
    "import numpy as np\n",
    "\n",
    "class Slide(Move):\n",
    "    \n",
    "    # constructor\n",
    "    def __init__(self, state, drow=0, dcol=0):\n",
    "        super().__init__(state)\n",
    "        self.drow = drow\n",
    "        self.dcol = dcol\n",
    "    \n",
    "    # checkt of slide geldig is, rekening houdend met de randen van de puzzle\n",
    "    @abstractmethod\n",
    "    def is_valid(self):\n",
    "        pass\n",
    "    \n",
    "    # berekent de nieuwe positiematrix\n",
    "    def new_matrix(self):\n",
    "        if self.is_valid():\n",
    "            irow1, icol1 = self.state.empty  # (irow, icol) van lege vakje\n",
    "            irow2, icol2 = irow1 + self.drow, icol1 + self.dcol  # (irow, icol) van vakje waarmee gewisseld wordt\n",
    "            new_matrix = self.state.matrix.copy()\n",
    "            new_matrix[irow1,icol1], new_matrix[irow2,icol2] = new_matrix[irow2,icol2], new_matrix[irow1,icol1]\n",
    "            return new_matrix    \n",
    "    \n",
    "    # string representatie object\n",
    "    def __repr__(self):\n",
    "        if self.dcol == -1:\n",
    "            return 'L'\n",
    "        elif self.dcol == 1:\n",
    "            return 'R'\n",
    "        elif self.drow == -1:\n",
    "            return 'U'\n",
    "        elif self.drow == 1:\n",
    "            return 'D'"
   ],
   "metadata": {
    "id": "RigUZYTFI1Nu",
    "executionInfo": {
     "status": "ok",
     "timestamp": 1647194300666,
     "user_tz": -60,
     "elapsed": 5,
     "user": {
      "displayName": "Andy Louwyck",
      "photoUrl": "https://lh3.googleusercontent.com/a/default-user=s64",
      "userId": "12233616324594742218"
     }
    }
   },
   "execution_count": null,
   "outputs": []
  },
  {
   "cell_type": "markdown",
   "source": [
    "Subklassen creëren voor elke move afzonderlijk:"
   ],
   "metadata": {
    "id": "-hOwOGygJmUY"
   }
  },
  {
   "cell_type": "code",
   "source": [
    "class Left(Slide):\n",
    "    def __init__(self, state):\n",
    "        super().__init__(state, dcol=-1)\n",
    "    def is_valid(self):\n",
    "        return self.state.empty[1] > 0\n",
    "\n",
    "class Right(Slide):\n",
    "    def __init__(self, state):\n",
    "        super().__init__(state, dcol=1)\n",
    "    def is_valid(self):\n",
    "        return self.state.empty[1] < self.state.size - 1\n",
    "\n",
    "class Up(Slide):\n",
    "    def __init__(self, state):\n",
    "        super().__init__(state, drow=-1)\n",
    "    def is_valid(self):\n",
    "        return self.state.empty[0] > 0\n",
    "\n",
    "class Down(Slide):\n",
    "    def __init__(self, state):\n",
    "        super().__init__(state, drow=1)    \n",
    "    def is_valid(self):\n",
    "        return self.state.empty[0] < self.state.size - 1"
   ],
   "metadata": {
    "id": "EP_ktaPFJqBp",
    "executionInfo": {
     "status": "ok",
     "timestamp": 1647194303055,
     "user_tz": -60,
     "elapsed": 280,
     "user": {
      "displayName": "Andy Louwyck",
      "photoUrl": "https://lh3.googleusercontent.com/a/default-user=s64",
      "userId": "12233616324594742218"
     }
    }
   },
   "execution_count": null,
   "outputs": []
  },
  {
   "cell_type": "markdown",
   "metadata": {
    "id": "7OxTrgR8mPs5"
   },
   "source": [
    "### Klasse `Puzzle`"
   ]
  },
  {
   "cell_type": "markdown",
   "metadata": {
    "id": "KqqWt8ramgdV"
   },
   "source": [
    "- Klasse voor de toestand:\n",
    "  - bevat de matrix met de positie van de tegeltjes\n",
    "  - bevat ook de vorige toestanden (hoewel niet nodig om toestand te definiëren)\n",
    "- Erft van superklasse `State`"
   ]
  },
  {
   "cell_type": "code",
   "execution_count": null,
   "metadata": {
    "executionInfo": {
     "elapsed": 210,
     "status": "ok",
     "timestamp": 1647198049621,
     "user": {
      "displayName": "Andy Louwyck",
      "photoUrl": "https://lh3.googleusercontent.com/a/default-user=s64",
      "userId": "12233616324594742218"
     },
     "user_tz": -60
    },
    "id": "yExQg-BySTwV"
   },
   "outputs": [],
   "source": [
    "import matplotlib.pyplot as plt\n",
    "from matplotlib import colors\n",
    "from IPython.display import clear_output\n",
    "from time import sleep\n",
    "\n",
    "class Puzzle(State):\n",
    "\n",
    "    # constructor\n",
    "    def __init__(self, matrix, previous=[]):\n",
    "        self.matrix = np.array(matrix)  # matrix omzetten naar NumPy array\n",
    "        self.size = len(matrix)  # aantal rijen = aantal kolommen\n",
    "        self.empty = np.where(self.matrix == 0)  # (irow, icol) van lege vakje\n",
    "        self.previous = previous  # vorige states\n",
    "        \n",
    "    # berekent de mogelijke posities van het zwarte vakje\n",
    "    def calculate_moves(self):\n",
    "        moves = [Left(self), Right(self), Up(self), Down(self)]\n",
    "        return [move for move in moves if move.is_valid()]\n",
    "        \n",
    "    # verschuift het zwarte vakje en retourneert nieuwe state\n",
    "    def apply_move(self, move):\n",
    "        return Puzzle(move.new_matrix(), self.previous + [self])\n",
    "\n",
    "    # checkt of alle vakjes in de juiste volgorde liggen    \n",
    "    def is_goal(self):\n",
    "        goal = np.arange(1, self.size**2 + 1)\n",
    "        goal[-1] = 0  # goal is de matrix met alle cijfers in de juiste volgorde (en nul op het einde)\n",
    "        return np.all(self.matrix.flatten() == goal)\n",
    "    \n",
    "    # plot matrix    \n",
    "    def plot(self):\n",
    "        cmap = colors.ListedColormap(['black', 'lightblue'])\n",
    "        norm = colors.BoundaryNorm([-0.5, 0.5, 1.5], cmap.N)\n",
    "        grid = self.matrix.copy()\n",
    "        grid[grid>0] = 1\n",
    "        fig, ax = plt.subplots(1, 1)\n",
    "        ax.matshow(grid, cmap=cmap, norm=norm)\n",
    "        xx = np.arange(0, self.size)\n",
    "        xx, yy = np.meshgrid(xx, xx)\n",
    "        xx = xx.flatten()\n",
    "        yy = yy.flatten()\n",
    "        b = (grid > 0).flatten()\n",
    "        matrix = self.matrix.flatten()\n",
    "        font = dict(weight='bold', size=40)\n",
    "        for x, y, i in zip(xx[b], yy[b], matrix[b]):\n",
    "            ax.text(x, y, i, ha=\"center\", va=\"center\", fontdict=font)\n",
    "        ax.set_aspect(\"equal\")\n",
    "        ticks = np.linspace(-0.5, self.size - 0.5, self.size + 1)\n",
    "        ax.set_xticks(ticks)\n",
    "        ax.set_xticklabels([])\n",
    "        ax.set_yticks(ticks)\n",
    "        ax.set_yticklabels([])\n",
    "        ax.tick_params(axis=u'both', which=u'both', length=0)\n",
    "        ax.grid(linewidth=3, color=\"white\")\n",
    "        ax.set_xlim((ticks[0], ticks[-1]))\n",
    "        ax.set_ylim((ticks[-1], ticks[0]))\n",
    "        plt.show()\n",
    "\n",
    "    # plot opeenvolgende posities\n",
    "    def plot_moves(self, wait=1):\n",
    "        for puzzle in self.previous + [self]:\n",
    "            clear_output()\n",
    "            puzzle.plot()\n",
    "            sleep(wait)\n",
    "          \n",
    "    # omzetten naar string\n",
    "    def __repr__(self):\n",
    "        return \"\\n\".join([\" \".join(map(str, row)) for row in self.matrix]).replace(\"0\", '.')\n",
    "\n",
    "    # 2 objecten zijn gelijk als hun matrices gelijk zijn\n",
    "    def __eq__(self, other):\n",
    "        return np.all(self.matrix == other.matrix)"
   ]
  },
  {
   "cell_type": "markdown",
   "metadata": {
    "id": "NF_JHe_Drqvl"
   },
   "source": [
    "### Voorbeeld: Puzzle met 4 vakjes"
   ]
  },
  {
   "cell_type": "code",
   "source": [
    "p1 = Puzzle(matrix)\n",
    "p1"
   ],
   "metadata": {
    "colab": {
     "base_uri": "https://localhost:8080/"
    },
    "id": "8B22J7m3BVSU",
    "executionInfo": {
     "status": "ok",
     "timestamp": 1647198051695,
     "user_tz": -60,
     "elapsed": 300,
     "user": {
      "displayName": "Andy Louwyck",
      "photoUrl": "https://lh3.googleusercontent.com/a/default-user=s64",
      "userId": "12233616324594742218"
     }
    },
    "outputId": "9024e441-26b6-4c72-b6d7-270c842c526e"
   },
   "execution_count": null,
   "outputs": []
  },
  {
   "cell_type": "code",
   "source": [
    "p1.plot()"
   ],
   "metadata": {
    "colab": {
     "base_uri": "https://localhost:8080/",
     "height": 248
    },
    "id": "tD-AyrqlBg86",
    "executionInfo": {
     "status": "ok",
     "timestamp": 1647198052339,
     "user_tz": -60,
     "elapsed": 343,
     "user": {
      "displayName": "Andy Louwyck",
      "photoUrl": "https://lh3.googleusercontent.com/a/default-user=s64",
      "userId": "12233616324594742218"
     }
    },
    "outputId": "50ea5aac-650d-4d80-f7f1-f1bea216229b"
   },
   "execution_count": null,
   "outputs": []
  },
  {
   "cell_type": "code",
   "source": [
    "p1.is_goal()"
   ],
   "metadata": {
    "colab": {
     "base_uri": "https://localhost:8080/"
    },
    "id": "PHb3dW_8HlkE",
    "executionInfo": {
     "status": "ok",
     "timestamp": 1647198052556,
     "user_tz": -60,
     "elapsed": 2,
     "user": {
      "displayName": "Andy Louwyck",
      "photoUrl": "https://lh3.googleusercontent.com/a/default-user=s64",
      "userId": "12233616324594742218"
     }
    },
    "outputId": "bedeadf2-9eee-4e78-f316-d3d1629c3a17"
   },
   "execution_count": null,
   "outputs": []
  },
  {
   "cell_type": "code",
   "source": [
    "p2 = Puzzle([[1, 2], [3, 0]])\n",
    "p2"
   ],
   "metadata": {
    "colab": {
     "base_uri": "https://localhost:8080/"
    },
    "id": "90FYqZZjH-iH",
    "executionInfo": {
     "status": "ok",
     "timestamp": 1647198053277,
     "user_tz": -60,
     "elapsed": 4,
     "user": {
      "displayName": "Andy Louwyck",
      "photoUrl": "https://lh3.googleusercontent.com/a/default-user=s64",
      "userId": "12233616324594742218"
     }
    },
    "outputId": "acb8ced2-776e-476d-fda6-97b9d5597af4"
   },
   "execution_count": null,
   "outputs": []
  },
  {
   "cell_type": "code",
   "source": [
    "p2.plot()"
   ],
   "metadata": {
    "colab": {
     "base_uri": "https://localhost:8080/",
     "height": 248
    },
    "id": "CiG7wyhDZTqZ",
    "executionInfo": {
     "status": "ok",
     "timestamp": 1647198054375,
     "user_tz": -60,
     "elapsed": 259,
     "user": {
      "displayName": "Andy Louwyck",
      "photoUrl": "https://lh3.googleusercontent.com/a/default-user=s64",
      "userId": "12233616324594742218"
     }
    },
    "outputId": "a3691dfd-fc1c-4e1c-c517-d9b6aac0e749"
   },
   "execution_count": null,
   "outputs": []
  },
  {
   "cell_type": "code",
   "source": [
    "p2.is_goal()"
   ],
   "metadata": {
    "colab": {
     "base_uri": "https://localhost:8080/"
    },
    "id": "NvqT9OatIHRU",
    "executionInfo": {
     "status": "ok",
     "timestamp": 1647198054900,
     "user_tz": -60,
     "elapsed": 3,
     "user": {
      "displayName": "Andy Louwyck",
      "photoUrl": "https://lh3.googleusercontent.com/a/default-user=s64",
      "userId": "12233616324594742218"
     }
    },
    "outputId": "f6a7dd30-03cf-4e7b-cb03-baf0cf96198c"
   },
   "execution_count": null,
   "outputs": []
  },
  {
   "cell_type": "code",
   "source": [
    "p1 == p2"
   ],
   "metadata": {
    "colab": {
     "base_uri": "https://localhost:8080/"
    },
    "id": "mLG40GQXII_6",
    "executionInfo": {
     "status": "ok",
     "timestamp": 1647198055725,
     "user_tz": -60,
     "elapsed": 3,
     "user": {
      "displayName": "Andy Louwyck",
      "photoUrl": "https://lh3.googleusercontent.com/a/default-user=s64",
      "userId": "12233616324594742218"
     }
    },
    "outputId": "a77f138f-866b-4f9a-cb94-bd2bb0a5bcac"
   },
   "execution_count": null,
   "outputs": []
  },
  {
   "cell_type": "code",
   "source": [
    "moves1 = p1.calculate_moves()\n",
    "moves1"
   ],
   "metadata": {
    "colab": {
     "base_uri": "https://localhost:8080/"
    },
    "id": "-IvUFFDvYef9",
    "executionInfo": {
     "status": "ok",
     "timestamp": 1647198056338,
     "user_tz": -60,
     "elapsed": 4,
     "user": {
      "displayName": "Andy Louwyck",
      "photoUrl": "https://lh3.googleusercontent.com/a/default-user=s64",
      "userId": "12233616324594742218"
     }
    },
    "outputId": "4a82978d-8069-435e-9f20-1116d1932829"
   },
   "execution_count": null,
   "outputs": []
  },
  {
   "cell_type": "code",
   "source": [
    "p3 = p1.apply_move(moves1[0])\n",
    "p3.plot()\n"
   ],
   "metadata": {
    "colab": {
     "base_uri": "https://localhost:8080/",
     "height": 248
    },
    "id": "6lfxdlc_ZwTg",
    "executionInfo": {
     "status": "ok",
     "timestamp": 1647198057381,
     "user_tz": -60,
     "elapsed": 3,
     "user": {
      "displayName": "Andy Louwyck",
      "photoUrl": "https://lh3.googleusercontent.com/a/default-user=s64",
      "userId": "12233616324594742218"
     }
    },
    "outputId": "1be229e3-d49c-4891-9f4f-8ee383c2c83a"
   },
   "execution_count": null,
   "outputs": []
  },
  {
   "cell_type": "code",
   "source": [
    "p2 == p3"
   ],
   "metadata": {
    "colab": {
     "base_uri": "https://localhost:8080/"
    },
    "id": "orMyOd_ybyR0",
    "executionInfo": {
     "status": "ok",
     "timestamp": 1647198058247,
     "user_tz": -60,
     "elapsed": 4,
     "user": {
      "displayName": "Andy Louwyck",
      "photoUrl": "https://lh3.googleusercontent.com/a/default-user=s64",
      "userId": "12233616324594742218"
     }
    },
    "outputId": "637fb357-2f69-4d87-aa67-bb5c9248e3bc"
   },
   "execution_count": null,
   "outputs": []
  },
  {
   "cell_type": "code",
   "source": [
    "p3.previous"
   ],
   "metadata": {
    "colab": {
     "base_uri": "https://localhost:8080/"
    },
    "id": "fokieNPTo64R",
    "executionInfo": {
     "status": "ok",
     "timestamp": 1647198059523,
     "user_tz": -60,
     "elapsed": 247,
     "user": {
      "displayName": "Andy Louwyck",
      "photoUrl": "https://lh3.googleusercontent.com/a/default-user=s64",
      "userId": "12233616324594742218"
     }
    },
    "outputId": "0866da5d-7925-4d8a-cb9d-65ec66aa9d1a"
   },
   "execution_count": null,
   "outputs": []
  },
  {
   "cell_type": "code",
   "source": [
    "moves3 = p3.calculate_moves()\n",
    "moves3"
   ],
   "metadata": {
    "colab": {
     "base_uri": "https://localhost:8080/"
    },
    "id": "o0QzqAPLrLqk",
    "executionInfo": {
     "status": "ok",
     "timestamp": 1647198423259,
     "user_tz": -60,
     "elapsed": 219,
     "user": {
      "displayName": "Andy Louwyck",
      "photoUrl": "https://lh3.googleusercontent.com/a/default-user=s64",
      "userId": "12233616324594742218"
     }
    },
    "outputId": "db29478b-454d-4f07-c273-412b12f8a7a9"
   },
   "execution_count": null,
   "outputs": []
  },
  {
   "cell_type": "code",
   "source": [
    "p4 = p3.apply_move(moves3[-1])\n",
    "p4"
   ],
   "metadata": {
    "colab": {
     "base_uri": "https://localhost:8080/"
    },
    "id": "abBt6keUrPbY",
    "executionInfo": {
     "status": "ok",
     "timestamp": 1647198439824,
     "user_tz": -60,
     "elapsed": 246,
     "user": {
      "displayName": "Andy Louwyck",
      "photoUrl": "https://lh3.googleusercontent.com/a/default-user=s64",
      "userId": "12233616324594742218"
     }
    },
    "outputId": "ea4b6f42-ca12-4d2e-bed5-30653beaacbb"
   },
   "execution_count": null,
   "outputs": []
  },
  {
   "cell_type": "code",
   "source": [
    "for puzzle in p4.previous:\n",
    "    print(puzzle)\n",
    "    print()"
   ],
   "metadata": {
    "colab": {
     "base_uri": "https://localhost:8080/"
    },
    "id": "dbLzxTe3rZX4",
    "executionInfo": {
     "status": "ok",
     "timestamp": 1647198482770,
     "user_tz": -60,
     "elapsed": 3,
     "user": {
      "displayName": "Andy Louwyck",
      "photoUrl": "https://lh3.googleusercontent.com/a/default-user=s64",
      "userId": "12233616324594742218"
     }
    },
    "outputId": "13825397-0ef9-45d2-9cf6-c15437b20f5c"
   },
   "execution_count": null,
   "outputs": []
  },
  {
   "cell_type": "code",
   "source": [
    "p4.plot_moves()"
   ],
   "metadata": {
    "colab": {
     "base_uri": "https://localhost:8080/",
     "height": 248
    },
    "id": "E1oYE0Oqp8VU",
    "executionInfo": {
     "status": "ok",
     "timestamp": 1647198491434,
     "user_tz": -60,
     "elapsed": 3310,
     "user": {
      "displayName": "Andy Louwyck",
      "photoUrl": "https://lh3.googleusercontent.com/a/default-user=s64",
      "userId": "12233616324594742218"
     }
    },
    "outputId": "51defd94-93b7-497b-bdc3-77f2ec650995"
   },
   "execution_count": null,
   "outputs": []
  },
  {
   "cell_type": "markdown",
   "metadata": {
    "id": "q-113Rqj5tHB"
   },
   "source": [
    "### Klassendiagram"
   ]
  },
  {
   "cell_type": "markdown",
   "source": [
    "![image.png](data:image/png;base64,iVBORw0KGgoAAAANSUhEUgAAAw8AAALQCAYAAADWw0yYAAAgAElEQVR4nOzdfVxUdf7//+fgMJIiqHgRmd/czbWycMky87OaSmiIhBSa5sXNiy0rjUor101d16tN84Ity4tcNaUC9dOGpuCaa2a65o3aUrmVmdW2hmaAbCgujiPn94c/5sPAzHAQBhh43G83bjLzfp1z3meEN/Oa8z7vl6WoqMho1qyZKnPhwgURRxxxxBFHHHHEEUcccY03LqDSaAAAAAAQyQMAAAAAk0geAAAAAJhC8gAAAADAFJIHAAAAAKaQPAAAAAAwheQBAAAAgCkkDwAAAABMsRQVFRlmAps3b+7rvgB+raioqK67AAAA4FNWSaYqy0mSYZjKM4BGx2Kx1HnFR+KII4444ogjjjhfxzFtCQAAAIApJA8AAAAATLHWdQeAhuLo0aPO7yMiIuqwJwAAAL7BlQcAAAAAppA8AAAAADCF5AEAAACAKSQPAAAAAEwheQAAAABgSpUqTFMkDnDPYrHoyJEjzsc33nhjHfYGqJ7mzZvXdRfgZ4qKiuq6CwBqSZUqTAMwx9PvVH2oDEkccWbwYRHMslgs9frnmTjiiKvZOKYtAQAAADCF5AEAAACAKVSYBgAA1XL06FHn9xEREXXYEwC+xpUHAAAAAKb4ZfKQn5+vxx57TCEhIbLZbAoJCdHQoUN1/PhxSdLBgwfVv39/U/uqSiwAAADQmPnltKXx48frvffe02effabIyEh98MEHioqK0pEjR3T8+HH9z//8j+l9VSUWAAAAaMz88srDzp07JUm7d++WJPXv31+GYej48eMKCgpyxlksFknS999/r/79+6tZs2ay2WyKjIzUrl273MaWlJRo6tSpCg4OVnBwsKZOnSqHw1FbpwYAAADUW36ZPNxxxx2SpOeff16RkZE6cOCAs624uNj5fek65YmJiZoyZYouXLigY8eO6fDhwxo/frzb2NmzZys5OVmrV6/W+vXrlZycrHnz5tXGaQEAAAD1ml9WmD558qTuu+8+ffnll87nhgwZotWrV6t9+/bOqwhl+5uVlaUtW7Zo9+7d+uyzz9SkSRM5HI4KsR06dNCpU6d08eJFWa1WNWnSRJ06ddJ3331Xi2cIf0OFaTQk9Wm8R/3H+Ac0Ln5ZYbpjx47Kzs7Wq6++qqVLl+rf//63tm7dqvz8fH300UcV4lesWKHJkyfr/vvv15o1a3TnnXfq8uXLbvd95swZSVLTpk2dz508edI3J4IGiwrTxPlzHFAdjH/EEdew4/xy2pIkBQQE6KmnntI333yj5cuXS5IOHTrkNnbq1KmSpPT0dN1+++1e99u2bVtJ0uXLl2UYhgzD4J4HAAAAQH6aPHTr1k0Wi0UZGRmyWq3OhCAqKkqS1KJFC0n/d/9DWFiYJCk7O1t/+ctfXPZVPnbs2LGSpA0bNig7O1sWi0V9+/b18RkBAAAA9Z9fJg87duzQiBEjNGLECFmtVg0aNEgTJkxQSkqKJOmNN95Q06ZNdd9990mSXnvtNbVp00a9e/fWsWPHXPZVPnb+/PmaMmWKkpKSdOedd2rQoEFKS0ur3RMEAAAA6iG/rPPQsWNHpaamemx/8MEHXVZSSkhIUEJCgvPxsmXLPMZarVYtW7bMJQYAAACAn155AAA0DhaLxfl1+vRpSdKBAwdcngcA1B6SBwCAX9i3b58k6bPPPqvjngBA40XyAACo92666Sbt2rVL0pUk4le/+lWFmOeee04hISEKDg7W9OnT9eGHH8pisSg2NtYlLi4uThaLRR988IGmTp2q4OBgBQcHa+rUqayuBwCV8Mt7HgAAjUuPHj104MABSVemLUVHR+vrr792ts+bN09Lly7VypUrFRgYqEceeUQtWrTQr3/9a2VmZurbb7/VL3/5S504cUI7duzQr3/9a+3Zs0fJycl68803ZbPZ9NBDD6lFixaaM2dOXZ0mANR7fllhGqhvqLCKhqQ+jfel9zS8+eabGj16tI4ePaqIiAjnY0kyDEMdO3bUDz/8oIsXL0q6Uujzuuuu0/z58zVhwgQ9++yzWrJkiZ577jktXbpUq1ev1pw5c3Tq1CldvHhRVqtVTZo0UadOnfTdd9/V2fn6I8Y/oHGxFBUVGWYqy1kslnrzxwSob8r/8YyIiHAbVx8qQxJHXGXq03hfmjx89dVXuummmzRixAilpaXp66+/dk5dMgxDNptNly5dcvbbYrEoMDBQxcXF6tChg86dO6fvv/9eN9xwg6655hrl5OSoWbNmunz5ssvxmjRpwtSlKmL8I464xhXHPQ8AgHqvS5cuatWqld599121a9dOnTt3dmlv27atJMlut8tut0uSOnTooICAAD3++OMqKirSQw89pKKiIk2aNEk2m825zeXLl2UYhgzDIHEAgEqQPAAA/EJUVJQuXryoqKioCm2PPPKIpCuFP0sLhk6cOFGSNGnSJAUGBmrPnj0KDAzUpEmTJEljx46VJG3YsEHZ2dmyWCzq27dvbZwKAPgtbpgGAPiFe+65R++884769OlToW3WrFn673//q6lTp0qSZs6cqd///veSrlyVeOSRR7Ry5UoNHz5c7du3lyTNnz9fdrtdSUlJcjgcGjRokNauXVt7JwQAfojkAQBQb5W99+Kpp57SU0895bbNarXqpZde0ksvveR2PytWrNCKFStcnrNarVq2bJmWLVtWw70GgIaLaUsAAAAATCF5AAAAAGAKyQMAAAAAU0geAAAAAJhSpQrTADyjwioaivpUYRr1HxWmgcbFKslUZTlJ/DEBPCitglvK0+9UfagMSRxxgC8x/hFHXMOOY9oSAAAAAFNIHgAAAACYQvIAAAAAwBSSBwAAAACmkDwAAAAAMIXkAQAAAIApJA8AAAAATCF5AAAAAGBKlSpMUyQOcI8Kq2hImjdvXtddgJ9h/AMajypVmAZgDhVWifPnOEl8WATTLBaLy2PGP+KIa9hxTFsCAAAAYArJAwAAAABTSB4AAAAAmELyAAAAAMAUkgcAAAAAppA8AAAAADCF5AEAAACAKSQPAAAAAEypUoVpAJ5RYRUNRfPmzSkSB9MsFgvjH9CIVKnCNH9MAPeosEpcQ4oDqoPxjzjiGnYc05YAAAAAmELyAAAAAMAUkgcAAAAAppA8AAB8qqSkpEbj/L0fAODPSB4AAD7VvXv3Go3z5OTJk4qJiVFQUJCCg4P15JNP6vz587XeDwBoyEgeAAA+dfjw4RqN8+Shhx5SQkKCLly4oLNnz6pVq1Z64YUXar0fANCQkTwAACpVfjni8jIyMmSz2WS1WtWtWzd9+OGHLtuV/nvo0CF1795dNptN7du3V0pKitu4goICxcbGymazKSYmRgUFBZX25dNPP9XEiRMVEBAgm82mefPm6Y033vBZPwCgMSJ5AABUW0JCgtauXSuHw6ElS5ZowoQJkv6vPlDpv+PHj9fSpUtlt9u1cuVKJSUluY2bMWOG1qxZI7vdrkmTJmnOnDnOY3mqORQXF6dZs2YpNTVVx44dkyQVFhb6rB8A0BhVqcI0ReIA96iwioak7Hjv7lN+d38L4uLiFBoaqrFjxyoqKkpWq9XZZrFYPP79KNtW9vu2bdsqNzfXGRceHq7Tp0977XdBQYGmTZum48eP68CBA+rSpYvS0tLUrVu3Wu1HY8P4BzQuVaowDcAcKqwS589xZbl7Q+3Ohg0bNGLECMXFxSkoKEj79u1TZGRkhbj8/HytWrVK2dnZXu8tyMvLc0lcmjRpUmlfW7VqpTVr1kiS7Ha7VqxYoZEjRyo7O7tW+9HYMf4RR1zDjmPaEgCg2sLCwvT++++ruLhYL7/8sgYPHuw2LjY2VgEBARo1apQyMzM97i80NFSGYTi/HA5HpX0ICQlxLrNqs9n0zDPP6MSJE7XeDwBoyEgeAACVqmzaateuXZWRkaGAgACFh4e7TPUJDAx0Lpl69OhRJSYmauDAgUpOTnbZR9m4kSNH6uTJk5KkTZs2qVevXpX2cdy4cVqwYIEKCwtVUlKiRYsWqU+fPrXeDwBoyEgeAKAR8dUn5+vXr9e0adNktVoVHx+v9PR0Z1t8fLzatGkjSUpLS1NCQoLatWunzp07u+yjbNy8efP06KOPymazacGCBVq/fr0zztNqSwsXLlRubq6uu+46NWvWTB999JE2btzos34AQGNkKSoqMszMdapsvivQmJW/YTAiIsJtXH2Yq0hc44xzOBxau3atHn/8cS1evFhPPvmkgoKC3MYy3qMqGP+II65xxXHlAQAauJ07d+r222/X/v37dfDgQeXk5CgiIkJpaWnM4QcAVAnJAwA0UJ9//rkGDRqkpUuXKiUlRSkpKbr77ruVnJyszMxMbdq0SX369NH+/fvruqsAAD9hrTwEAOBPfvjhB82ZM0effPKJ5s2bp5iYGJe6C5LUuXNnvfvuu9q/f7+mTJmi66+/XosXL64w/x8AgLIa7ZWH0uX8AKChKC4u1qxZs9S/f3/dcccdysrKUlxcXIXEoazevXsrKytLiYmJGjRokKZMmVKLPQYA+Jt6V2G6ujfqmd0+MjJSn3/++VUfpz7bsmWLc6WTxMREPfjgg5VuU7p6iWEY6t69uyZOnKjHH3/c2f7666/r9ddf1yeffFKjfS17XH/mafUXoLYFBATo22+/1Q033FDlbY8cOaI+ffqosLBQ3333nTp16uSDHqKhocI00LjUu9WWait5aKiriTgcDnXt2lUHDx6UJPXp00dHjhzx+smj5Pp6WCwW/epXv9IXX3whq9Uqh8OhX/ziF/rhhx988po1hP8LVhshrj7E5eXlacGCBdq+fbvmzZunoUOHVvq7X2rnzp16/vnnFRkZqTfffNPvfydRexj/iCOuccVVa9pSZZ+2fvvtt7rtttvUsmVLlzW/Dx06pO7du8tms6l9+/ZKSUmp0vblj+upH56OUxpf+m9BQYFiY2Nls9kUExOjgoKCSs78/467atUqtWzZUq1bt1Z6erp2796tjh07ymazaefOnc7Y3NxcDRgwQDabTffee6/y8/MlSTfffLOzAFFOTo66detWaZ8yMjJks9lktVrVrVs3ffjhh862devWKT4+XmFhYQoLC1NMTIzWrVtX6WtVXs+ePZ3937Vrl+655x6X9po8HwA1o02bNlW+GdrdTdUAAHji03sepk+frkmTJmnfvn169tlnnc+PHz9eS5culd1u18qVK5WUlFSl7c3ydJzST9RK/50xY4bWrFkju92uSZMmac6cOaaP8cUXXygvL0+bN2/WokWLlJWVpe+//17btm1TfHy8M27mzJkaPXq07Ha7xo0bp+nTp0uSYmNjlZmZKenKm/T777+/0j4lJCRo7dq1cjgcWrJkiSZMmOBsS09Pd+5DkoYMGaJt27Y5H5v9NHHgwIHat2+fJGnfvn3q27evS3tNng+AmlV6M/TixYs1ZcoUPfDAAzpx4oRLzA8//KBHH31U48eP1+TJk5WZmanIyMg66jEAwG8UFRUZZkhy+b78lzstWrQwLl26VOV9V7Z9+eN52t7scdq0aeMSd+2111ba59J9nDt3zuVx2f6WPUarVq2My5cvG4ZhGBcvXjRCQ0MNwzCM999/3xgxYoRhGIYxYsQI4+OPP660T4MHDzZGjhxp/O1vf6vw+jRv3ty4ePGi8/HFixeNFi1amDqXst9/9dVXxl133WUYhmHcfffdxuHDh312Pt7+z/yFJOPIkSPOL0/M/r4RR1xNxqWkpBidO3c2nnrqKeP06dPGzJkzjc6dOxsrV640NcYC3jD+EUdc44q7qisPhmG4fHpvePg0+9y5c27n2+bn52vBggV6+OGH1bVrV4/H8bS9WWaPk5eXJ4vF4vzKzc01fYzg4GCXx576W1BQoICAKy+3zWbThQsXJElRUVHavXu3JOnTTz9Vz549K+3Thg0b9NNPPykuLk6tW7d2ufG7uLhYNpvN+dhms6m4uNj0+ZTq0qWL/vWvf+nMmTM6evSoc/qRL84HgG+NHj1aR48e1bXXXqvw8HA5HA5lZWXp8ccfr9YYCwBofHw6balFixZuq5fGxsYqICBAo0aNck5xqcr2Zdntdo9tZo8TGhrqTIIMw/BJxdXQ0FDn8rAOh0NBQUGSrqyMEh0drWXLlqlPnz6m+hQWFqb3339fxcXFevnllzV48GBnW7NmzVxeE7vd7jxWVfXt21cvvPCCYmJifHo+AHwvKChITz/9tC5duqQXX3xRLVu2rOsuAQD8ULWSB09XHEoNHDhQb731lr744guXpduOHj2qxMREDRw4UMnJyVXePjAwUDt37lRJSYlzrr073o4TGBio8+fPS5JGjhzpvMl306ZN6tWrl9fzuhqJiYnKyMiQJKWmpmr48OHOtujoaD377LMu9yp461PXrl2VkZGhgIAAhYeHu3yK369fP+3Zs8f5eO/everXr99V9fmee+7Rtm3bdPfdd/v0fADUHq40AACq5WrueTDrm2++MW666SajTZs2RmZmpvP5rVu3GrfccosRGhpqLF++3OO9CJ62z8zMNAIDA40WLVoYf/nLXzxu7+04iYmJRtOmTQ3DMIy8vDzjvvvuMwIDA42IiAjjyy+/NHV+5V8Tb49/+uknIyoqyggMDDSio6ONvLw8Z9uPP/5oBAYGusw99tanjz/+2Lj11luNJk2aGIGBgcaOHTucbatXrzYmT57sfDx58mRj9erVHvvo7vnS7z/55BNDkrFv3z6fns/V/GzVN2LOL3ENKK4h/E6i9jD+EUdc44qrd3UeUD0Oh0M33XSTc3nG3r1766uvvqpSnYfa1hB+tljnnLiGFNcQfidRexj/iCOuccXVuwrT9Ym3ewWu5ibk2lJaYdpqtWrIkCGmKkyXnmttn1ddHbemUWEVDUnz5s3rugvwM4x/QOPBlQegBvDJG3ENKY7xHlXB+EcccY0rzqerLQEAAABoOEgeAAAAAJhC8gAAAADAFJIH+K3SInU1FQcAAADv/C55sFgsdd2Fq7JlyxaNGjWqrrvhVvfu3bVq1SqX515//XXdeeedNX6sUaNG6a9//aup2JMnTyomJkZBQUEKDg7Wk08+6SzsJ13ptxlm4wAAAOCd3yUP/sjhcGjGjBl65ZVX6rorbn322WdatmyZHA6HpCv9nTdvnj799NMaP9Yrr7yimTNnOo/lzUMPPaSEhARduHBBZ8+eVatWrfTCCy842w8fPmzqmGbjAAAA4F21kofKrgIcOnRI3bt3l81mU/v27ZWSkuKy7fbt2xUcHKz+/fsrNzfXVFup2267TTk5OZKknJwcRUZGmurvqlWr1LJlS7Vu3Vrp6enavXu3OnbsKJvNpp07dzpjc3NzNWDAANlsNt17773Kz8+XJN188806efKk87jdunWTJBUUFCg2NlY2m00xMTEqKChw7mvdunWKj49XWFhYnfbD2/9Xz549ncfdtWuX7rnnHpf2mupHWFiYYmJitG7dukr79emnn2rixIkKCAiQzWbTvHnz9MYbb7hsU/qvp5+18nHeXh8AAAB459MrD+PHj9fSpUtlt9u1cuVKJSUlubRv3bpVhYWFGjdunGbPnm26TZISExP13nvvSZJ27NihmJgYU3364osvlJeXp82bN2vRokXKysrS999/r23btik+Pt4ZN3PmTI0ePVp2u13jxo3T9OnTJUmxsbHKzMyUdOVN9v333y9JmjFjhtasWSO73a5JkyZpzpw5zn2lp6c74+qyH97WbR84cKD27dsnSdq3b5/69u3r0l6T/RgyZIi2bdtWab/i4uI0a9Yspaam6tixY5KkwsJCl21K//X0s1Y+zlu/AAAA4N1VVZh290mxmYJCZQsPWSwWnTp1SuHh4bLb7WrXrp3+85//mGozDENZWVmaM2eOtm/frqFDh+rxxx9XdHR0pcc/d+6cgoODnY8vXbokq9VaoX+tW7dWXl6eAgICXPqwe/durV27VqmpqXr44Yf1zDPPqGfPnmrbtq3LFZLw8HCdPn1akhQcHKyzZ8/KZrPVaT+8vS5fffWVxowZo0OHDqlXr15avXq1fv3rX/ukH3a7XW3atHEmAp4UFBRo2rRpOn78uA4cOKAuXbooLS3NeXXDWyGr8j9rpd9fzetjBhWm0ZCUHe+ByjD+AY1LtSpMV1aFND8/X6tWrVJ2drYOHz6sL7/80u0bOkmy2Wyy2+1VauvYsaO++eYbtWvXTmfPnlVAgPcLKeX36+2xpz6UlJSoffv2ys3NVZcuXXT8+HFnfFlNmjRxzuu3Wq0uc/zrqh+VvS7t27fXkSNHdOONN+r8+fM+7UfZ/1Mz7Ha7VqxYob/85S/Kzs6u0CezP2tX8/qYQYVV4hpSHBWmURWMf8QR17jifDptKTY2VgEBARo1apRzaktZpZ882+12tWrVynRb2f1PmzZNgwYNqjRxqKrQ0FDnEp8Oh0NBQUGSpICAAEVHR2vZsmXq06ePS7xhGM6vsm9ImzVrVqU3yr7qR2X69u2rF154we0UsJrsh91ud27vTUhIiPOYNptNzzzzjE6cOOE2trKfNTP9AgAAgHfVesdd2SdTR48eVWJiogYOHKjk5OQK7XPnzpUkpaamVljG1FtbqQceeEAbN26sdLrS1UhMTFRGRoazD8OHD3e2RUdH69lnn3W5j2HkyJHOG4c3bdqkXr16Odv69eunPXv21Hk/KnPPPfdo27Ztuvvuu33aj71796pfv36V9mfcuHFasGCBCgsLVVJSokWLFrkkKIGBgc6lW739rJWNq87rAwAA0OgVFRUZZkgyFVfW1q1bjVtuucUIDQ01li9f7rIPScbq1auNpk2bGkOGDDF+/vln022lLl26ZEgyTp06dVXn4O3xTz/9ZERFRRmBgYFGdHS0kZeX52z78ccfjcDAQOPSpUvO5/Ly8oz77rvPCAwMNCIiIowvv/zS2bZ69Wpj8uTJdd4PT/+Hpc9/8sknhiRj3759Pu3H5MmTjdWrV1far6KiIiMpKclo3ry50bRpU2Pw4MEu/9eJiYlG06ZNDcPw/rNWNs5bv6pDknHkyBHnlydmf9+II64u465mvEfjxfhHHHGNK65a9zxUh9mbXb05ePCgnnnmGR06dKjG+uULDodDN910k/bv36/w8PC67k6dOn36tHr37q2vvvrKeYN4Q8CcX+IaUhz3PKAqGP+II65xxdVZkbimTZteVVtZAwYM0KxZs5yPg4KCPH7VJavVqoULF+q5556r037UB9OnT9fixYsbVOIAAADQWNTZO7ji4uKraiurdB57VberC8OGDdOwYcPquht1bsOGDXXdBQB+qKSkpMYXxqiJ4/m6X/WlHwBQipEGAFCrvFW79xTXvXv3Gjn2li1bPC7CUZbZ41W3XydPnlRMTIyCgoIUHBysJ5980uWDsZrsx6hRo/TXv/71qvsKABLJAwCglpm9n6Js3OHDh6t9XIfDoRkzZuiVV16pNNbs8arbr4ceekgJCQm6cOGCzp49q1atWumFF17wST9eeeUVzZw5kyWqAVTLVVWYBuCKCqtoSHw93pcv3Lh48WK99tprysnJ0bZt25y1Zkrjyl6BqE6/Xn/9dR0/flxLliyRJGVkZCghIUElJSXq2rWrli9frr59+1Y43qFDh/TEE08oOztbrVq10pIlSzRmzJgKcQUFBRo1apR2796tqKgopaamOusUeboJ3Wazqbi42GXKUUhIiAoLC33Sj6lTp+rmm2/WxIkTr/p1LI/xD2hkWLoPqD6xVCFxDSjO1+O9yi3b/bvf/c64fPmykZmZaQQGBnqMq65BgwYZe/fudT4ODAw0Nm7caBiGYfztb38zfvnLX7o93i233GLs2bPHMAzDeOedd4zQ0FC3cU888YTxww8/GIZxZfnop59+utI+PfDAA8YLL7xgvP32226Xjq7pfuzdu9cYPHhwpf2qCsY/4ohrXHE+Xaq1vi73V75fW7ZsUXp6uqQrxdAefPDBKu/DF/2C/2CpQuIaUpyvx6LyVx4uXbrkXIGtfJu7769WcHCwzp49K5vNJkmKi4tTaGioxo4dq6ioKJdV4MwuJ172+7Zt2yo3N9cZFx4ertOnT3vtU0FBgaZNm6bjx4/rwIED6tKli9LS0tStWzef9MNut6tNmzYqLCz02q+qYPwjjrjGFefT1Zb84Y1w6RzYgwcPSpL69Omj+Ph4lhIF0OjV1HShytTWeFtcXOxMHKQrq7+NGDFCcXFxCgoK0r59+xQZGVlhu/z8fK1atUrZ2dle7y3Iy8tzec2aNGlSaZ9atWqlNWvWSLryxn7FihUaOXKksrOzfdKP0mlSAHC1qnXDdGUrZpRtz8jIkM1mk9VqVbdu3fThhx+aOkZ+fr769++vtm3basWKFS77zM3N1YABA2Sz2XTvvfcqPz/f2Xbo0CF1795dNptN7du3V0pKitv9r1u3TvHx8QoLC1NYWJhiYmK0bt06U+d44sQJRUZG6t5773X5lMdbv7y1AUB9YhiG86shaNasmex2u/NxWFiY3n//fRUXF+vll1/W4MGD3W4XGxurgIAAjRo1SpmZmR73Hxoa6vKambkxOSQkRCUlJZKuvLF/5plndOLECZ/1w26313ntIwD+rdZWW0pISNDatWvlcDi0ZMkSTZgwwdR2c+bM0ZAhQ3TmzBkdO3bMpW3mzJkaPXq07Ha7xo0bp+nTpzvbxo8fr6VLl8put2vlypVKSkpyu//09HTdf//9zsdDhgzRtm3bnI+9/dFctmyZ/vnPf2r+/PmaOXOmqX55awMAuBcYGFihtk9V9evXT3v27HE+7tq1qzIyMhQQEKDw8HCXD4HKHu/o0aNKTEzUwIEDlZyc7LFfI0eO1MmTJyVJmzZtUq9evSrt07hx47RgwQIVFhaqpKREixYtUp8+fXzWj71796pfv36V9gsAPLqaG+gkVfiqbJvBgwcbI0eONP72t78Zly5dMnVMwzCMa6+91rh48aJhGGfnRrIAACAASURBVIZx9uxZl322atXKuHz5smEYhnHx4kWXm8cq63+p5s2bO/dfup8WLVpU2i9JRl5enktfzPTLW5un1xH1n7hhkLgGFOfrscjTeOytLTEx0WjatGm1jrt69Wpj8uTJzscff/yxceuttxpNmjQxAgMDjR07drg93tatW41bbrnFCA0NNZYvX+6xX3l5ecZ9991nBAYGGhERES43QHt6TYuKioykpCSjefPmRtOmTY3Bgwcbp06d8lk/Jk+ebKxevbrqL54XjH/EEde44qp1w3RlN7CVbc/Pz9eIESP04Ycfep1bWp7NZnO5zOztBrqyseXnhn755Zdut7NarRUuLZc/ZmXnVn6bmmqD/+CGQeIaUlxDHYscDoduuukm7d+/X+Hh4XXdnVp3+vRp9e7dW1999VWN3mfC+EcccY0rrtamLZmdW1peq1atnG+uy1+yDg0Ndc4VdTgcLvM4zc4NLT8HtirzQUtvaCspKVFoaKipfnlrAwB/ERQUdFVfdXlcq9WqhQsX6rnnnqt2P/zR9OnTtXjxYhYEAVAt1UoeqvLJlLe5pd48/PDDWrFihSTpD3/4g8uqEYmJicrIyJAkpaamavjw4c42b3NDyyo/B7Yq80GffvppSdKBAwc0atQoU/3y1gYA/qK4uPiqvur6uMOGDdNbb71V7X74ow0bNphaihwAvPFphemyl74PHTqk3/72tzp27JgCAgKUnp6u2NjYSvdRUFCgoUOH6tNPP9X8+fM1bdo0XbhwQdKVlYtGjBihjz76SH379lVaWprCwsIkSdu2bdP06dN16tQpzZ8/X0lJSW6nLb3++us6cuSIXn31VUnSk08+qW7dujmrb3q6fG+xWPT1118rISFB/+///T+lpaUpJCSk0n55a2uoUwUaAyqsoiHxdYVpNCyMf0Dj4tMicTVt06ZNWrVqlT744IMa22fZObCSfDIfFA0fc36Ja0hx9WG8h/9g/COOuMYVV+fvkL3NgS0uLtakSZP05ptvym63q0ePHnr77bdr9Phl58BarVbmgwIAAAAe1Pm75MrmwK5YscJ5z4OvDBs2TMOGDfPpMQAAAAB/V+fJAwAA7piZPrVlyxalp6dLurIgBTcEA4BvkTwAAPySw+HQjBkzdPDgQUlSnz59FB8fz9RTAPChWqvzAADwXxaLxWv7oUOH1L17d9lsNrVv314pKSku227fvl3BwcHq37+/y1Ld3tpK3XbbbcrJyZEk5eTkOAuMrlu3TvHx8QoLC1NYWJhiYmK0bt06030GAFQdyQMAoNrGjx+vpUuXym63a+XKlUpKSnJp37p1qwoLCzVu3DjNnj3bdJt0ZTrSe++9J0nasWOHYmJiJEnp6em6//77nXFDhgzRtm3bnI9ZMQoAah7JAwDAI4vF4vwEv+z35X3xxRfq37+/JOnBBx/Uzz//7NI+d+5cBQQE6OGHH66wap63NkmKi4vT9u3bJUm7du1SdHS0JGnfvn3q1auXM65Xr17at2/fVZ4pAMAMJoYCADxyV1zTnfz8fK1atUrZ2dk6fPhwhfbw8HBJks1mcxb6NNMmST169NDhw4dlt9u1e/dubd68WdKV1fpsNpszzmaz1UgVawCAZz6tMA00FlRYRUPibryvLHno2bOnEhISFBERoYiICHXq1Mkl8fj5558VEhIiu92ujh076syZM6baSvfx2GOP6ZprrtGZM2eUmpoqSQoJCVFeXp4zgbDb7WrTpo0KCwtr9gWBV4x/QONilWSqshwA8zz9TtWHypDEEXc1Kvvw6OjRo0pJSVGnTp00bdq0Cu1z587VkiVLlJqaqlGjRpluK/XAAw9o5MiRWrx4sfO5fv36ac+ePc57IPbu3at+/fpV9dRQwxj/iCOuYcdxzwMAoNrS0tKUkJCgdu3aqXPnzhXau3TpoqCgIL377rv64x//aLqtVHR0tAoKChQbG+t8ruy9EJK0bds2xcXFOR+z2hIA1DzueQAAVFt8fLzi4+Odj5988kmX9okTJ2rixIlut/XUVvZqR1ZWlu666y7n/RGSNGHCBN100006ffq0JCkzM1N//vOf3W4PAKgZJA8AAJ9q2rTpVbWVNWDAAKWlpbk8Z7VatXDhQj333HOyWq1avHgxBeIAwMcYZQEAPuVtBSSzqyOdP3/e7fPDhg3TsGHDrqpfAICq454HAAAAAKaQPAAAAAAwheQBAAAAgCkkD37qX//6V113AQAAAI1MlSpMo37o3bu39u/fX9fdQDlUWEVD4a7CNOAJFaaBxsV0hemioiKXuKNHj/quV/DIYrFo6dKl+vnnn9WuXTslJyfXdZfgBhVWifPnOKA6GP+II65hxzFtyc98/fXXOnbsmP75z3/qv//9r/bs2VPXXQIAAEAjQZ0HPzNr1iy98cYbslqtWr9+vQYMGKAePXqoRYsWdd01AAAANHBXnTxERES4fb4+XE5pqHHz58/XgAEDdOedd0qSunTpokcffVRbtmzxOH2pPp5HY44DAADwZ1x58BMnTpzQhg0blJWV5fL89OnTdfvtt+uTTz5xJhUAAACAL3DPg59ISkrS4sWL1bJlS5fnrVarVq5cqSeeeEIOh6OOegcAAIDGgOTBD7z55psKCgpSQkKC2/bevXsrMjJSr776ai33DAAAAI0J05bquR9//FFjxoyRdGWZ1soMHTpU119/va+7BQAAgEaI5KGeu/baa90Wa7JYLBRxAoBa9K9//UudOnWq624AQJ0yXWEa9Uvz5s1VVFRU190A0AA1b968rrtQ7/Tu3Vv79++v627UW1SYBhoP0xWm6/sSmI0tTuL/jTjiiPNNXFFRkUvc0aNHK92mIbNYLFq6dKl+/vlntWvXzuPS2LiCCtPEEdew47hhGgAAL77++msdO3ZM//znP/Xf//5Xe/bsqesuAUCd4Z4HAAC8mDVrlt544w1ZrVatX79eAwYMUI8ePdSiRYu67hoA1DqSBwCAVxEREW6frw+Xz30dN3/+fA0YMMBZhLNLly569NFHtWXLFo/Tl+rjedSHOAANA8kDAABunDhxQhs2bFBWVpbL89OnT9ftt9+uTz75xJlUAEBjwT0PAAC4kZSUpMWLF6tly5Yuz1utVq1cuVJPPPGEHA5HHfUOAOoGyQMAAOW8+eabCgoKUkJCgtv23r17KzIyUq+++mot9wwA6hbTlgAAKOPHH3/UmDFjJF1ZprUyQ4cO1fXXX+/rbgFAvUDyAABAGddee60Mo2L9VIvF4vZ5AGhMqDDtp6gwDQC1i3EXAP7/5KE+L+1GnHtmPwGr7+dBHHHEEecvcYy7xBFHHHHcMA0AAADAJJIHAAAAAKaQPAAAAAAwheQBAAAAgCkkDwAAAABMIXkAAAAAYArJAwAAAABTSB4AAAAAmEKFaT9FpVMAqF2MuwBAhWm/jaPSKXHEEUdc7cYx7hJHHHHEMW0JAAAAgEkkDwAAAABMIXkAAAAAYArJAwAAAABTSB4AAAAAmELyAAAAAMAUkgcAAAAAppA8AAAAADCFCtN+ikqnAFC7GHcBgArTfhtHpVPiiCOOuNqNY9wljjjiiGPaEgAAAACTSB4AAAAAmELyAAAAAMAUkgcAAAAAppA8AAAAADCF5AEAAACAKSQPAAAAAEwheQAAAABgChWm/RSVTgGgdjHuAgAVpv02jkqnxBFHHHG1G8e4SxxxxBHHtCUAAAAAJpE8AAAAADCF5AEAAACAKSQPAAAAAEwheQAAAABgCskDAAAAAFNIHgAAAACYQvIAAAAAwBQqTPspKp0CQO1i3AUAKkz7bRyVTokjjjjiajeOcZc44ogjjmlLAAAAAEwieQAAAABgCskDAAAAAFNIHgAAAACYQvIAAAAAwBSSBwAAAACmkDwAAAAAMIXkAQAAAIApVJj2U1Q6BYDaxbgLAFSY9ts4Kp0SRxxxxNVuHOMuccQRRxzTlgAAAACYRPIAAAAAwBSSBwAAAACmkDwAAAAAMIXkAQAAAIApJA8AAAAATCF5AAAAAGAKyQMAAAAAU0xXmG7evLmv+wL4NSrPAg0bFaYBoAoVps1W1gQaIyrPEkdcw4/j95w44ogjjmlLAAAAAEwieQAAAABgirWuOwA0FEePHnV+HxERUYc9AQAA8A2uPAAAAAAwheQBAAAAgCkkDwAAAABMIXkAAAAAYArJAwAAAABTqlRhmiJxgHsWi0VHjhxxPr7xxhvrsDeo75o3b17XXQAaFSqDAzXHKslUZTkA5nn6naoPlSGJq/s4SXwYA9QSi8VSr8cD4ojztzimLQEAAAAwheQBAAAAgClUmAYAAA3a0aNHnd9HRETUYU8A/8eVBwAAAACm+EXyYLFYnF9Wq1XNmjXT0KFDlZub67NjAQAAAHDlF8lDKcMw5HA4NHfuXL3zzjuaPHlyXXcJAAAAaDT8Knko9cwzz0iStm/fLqni1YKyj8tetTDzfFklJSWaOnWqgoODFRwcrKlTp8rhcPj69AAAAIB6yS+Th6owDEOGYei9996TJA0bNszr82XNnj1bycnJWr16tdavX6/k5GTNmzev9joPAAAA1CN+UWG69KqAYRgqKSnRiy++qJkzZ2r06NFKSUlxaS8fL0l2u1233HKL8vPz9eWXXyo8PNzj82W37dChg06dOqWLFy/KarWqSZMm6tSpk7777rtaPX/Uf1SYRlXU5XgKNDaMz0DN8qsK0xaLRU2aNFGzZs00evRovfLKK6a2e/HFF/Xtt9/qtddecyYO3p4vdebMGUlS06ZNnc+dPHmymmeBxoAK08QBqJ8Yn4kjrnpxflXnwdMndU2aNNHly5clSefPn3dp+/777/Xiiy/q9ttv16RJkyp9vqy2bdvqxx9/1OXLlxUQ0OBneAEAAABeNYh3xDfccIMk6fPPP9f8+fNd2p5++mldvHhRy5cvN/V8WWPHjpUkbdiwQdnZ2bJYLOrbt28N9x4AAADwDw0ieXj55Zd13XXX6aGHHtKIESNc2rZu3SpJ6t27t8uqSp6eL2v+/PmaMmWKkpKSdOedd2rQoEFKS0vz8dkAAAAA9ZNfTFuq7MbCuLg45eTkuI33tK2Z561Wq5YtW6Zly5ZVpbsAAABAg9QgrjwAAK5efn6+HnvsMYWEhMhmsykkJERDhw7V8ePHJbmvneOOtzYAQMPgF1ceAAC+M378eL333nv67LPPFBkZqQ8++EBRUVE6cuSIM4EoxRKzANC4ceUBABq5nTt3SpJ2794tSerfv78Mw6iQOEiuVxdyc3P1m9/8Rr/4xS/0+uuvu8SVlJRo6tSpCg4OVnBwsKZOnSqHw+HjMwEA+BrJAwA0cnfccYck6fnnn1dkZKQOHDhgartp06bpH//4h/74xz/q2LFjLm2zZ89WcnKyVq9erfXr1ys5OVnz5s2r8b4DAGqXX1SYBuo7KpiiKurbeHry5Endd999+vLLL53PDRkyRKtXr1b79u2dVxoMw3D5PiQkROfOndOlS5fkcDh0zTXXONs6dOigU6dO6eLFi7JarWrSpIk6deqk7777rvZPEI0a4zNQs/yqwjTgL6hgSpw/6dixo7Kzs/Xqq69q6dKl+ve//62tW7cqPz9fH330kcftzp07J+nKynRWq+stdGfOnJEkNW3a1PncyZMnfdB7oGoYn4kjrnpxTFsCACggIEBPPfWUvvnmG2fxzEOHDnndplWrVpIku90uu93u0ta2bVtJ0uXLl2UYhgzD4J4HAGgASB4AoJHr1q2bLBaLMjIyZLVadfvtt0uSoqKivG43bNgwSdKWLVv0hz/8waVt7NixkqQNGzYoOztbFotFffv29UHvAQC1iaVaAaCR27Fjh6ZNm6YRI0Y4L01PmDBBCxcu9Lrd/PnzdeTIEU2ePFlLly6t0Ga325WUlCSHw6FBgwZp7dq1vjwNAEAtIHkAgEauY8eOSk1N9dhe9ubust+3bdtWBw8edD7+7W9/6/zearVq2bJlWrZsWQ33FgBQl5i2BAAAAMAUkgcAAAAAppA8AAAAADCF5AEAAACAKVWqMA3AMyqYwqz6VmEaaMioMA3UrCpVmOaPHeCexWJxeUwFU+IA1E+Mz8QRV704pi0BAAAAMIXkAQAAAIApJA8AAAAATCF5AAAAAGAKyQMAAAAAU0geAAAAAJhC8gAAAADAFJIHAAAAAKZUqcI0ReIA96hgiqpo3rx5XXcBaFQYn4GaU6UK0wDMoYIpcZXhwxigdlgsFpfHjM/EEVe9OKYtAQAAADCF5AEAAACAKSQPAAAAAEwheQAAAABgCskDAAAAAFNIHgAAAACYQvIAAAAAwBSSBwAAAACmUGEaqAFUmEZVMJ4CtYfxGahZflFhuqSkRAEBXCSB/6CCKXEA6ifGZ+KIq16cX7wj7969u8e28mXnAQAAAPiGXyQPhw8f9tjGpX8AAACgdlQreajsU3+LxaJVq1apZcuWat26tdLT07V792517NhRNptNO3fudMYeOnRI3bt3l81mU/v27ZWSkuJyjLL/LlmyxDlnsfT5mJgYHTx4UJK0e/duPfTQQ1776Ol4no5R9rGnbW+77Tbl5ORIknJychQZGWnqdQQAAAD8gc+vPHzxxRfKy8vT5s2btWjRImVlZen777/Xtm3bFB8f74wbP368li5dKrvdrpUrVyopKUnS/11ZKHuFoUOHDvr6669djvPSSy9p6tSpKikp0fTp05WcnFxhu7I8Hc/TMco+9rRtYmKi3nvvPUnSjh07FBMTU/UXDAAAAKinLEVFRYaZGyUsFovzjbi7T/PdvUm3WCw6d+6cgoODnY8vXbokq9VaYZ+VHa/s95cvX3beQF22bcyYMfr55591xx13aPbs2ZWek7fjlT9G2ceets3KytKcOXO0fft2DR06VI8//riio6Or1A/4p/KreURERLiNqw83OhFX93Hexj4ANYvxmTjiajbOWmm0G+7e1HtSmjiUKk0cysvPz9eqVauUnZ3t9R4HSR7fxD/11FP6zW9+o82bN3vd3szxyh+j7GNP2/bo0UOHDx+W3W7X7t27TfUDABoaVsgDgIar3ozusbGxCggI0KhRo5SZmXlV+3jrrbfUo0cPvfzyyz49nrdtY2NjNW3aNA0aNIg/ngB8pi5WmjN7TG8r5AEA/Fu13t3W5GX3o0ePKjExUQMHDnTer1AqMDBQ58+f97r98ePHtX//fn3wwQd66623nDcuX83xqtPXBx54QBs3bmS6EoAGx+yYX9nVYwCA/7JKV+Yx1bW0tDQlJCTo1KlTmj9/vktbfHy82rRpo+LiYo/bP/fcc3r55Zdls9m0ZMkSTZ48Wenp6R6nVnk7XnX6Gh0drYKCAsXGxlZpn2hYvP1Omf19I65hx5VX2TTQ3NxcjRgxQgcPHtSaNWsqbLt48WKtXLlS33zzjXJzczVy5Eh9+OGH6tOnjzZv3qywsDDdfPPN+vvf/64OHTooOztbERER+vjjj9WzZ0/l5OSof//+On78uMe+lL83bPHixXrttdeUk5Ojbdu2KSYmxmVlPO7rQH3E+EwccdWMKyoqMsyQZCqusfvHP/5h3HXXXXXdDdQyScaRI0ecX56Y/X0jrmHHuRtPKxtjn3jiCePtt982Ll++bDz99NMu8ZKcbYZhGBMnTjTeeOMNwzAMY+PGjcYjjzxiGIZhTJkyxfn88uXLjeuuu87405/+ZBiGYaxevdpISkoy3W9Jxu9+9zvj8uXLRmZmphEYGGj6XIDaxPhMHHE1G8ek/Bo2YMAAzZo1q667AcBPWCwWl0/rPd1X8M4772j48OEKCAjQ3LlzK7SXtknSli1bNGbMGOfzW7ZskXSlHk5pfZ29e/dqwoQJ2rNnjyRp165dGjhwYJX6Pn/+fAUEBCgmJkaXLl2q0rYAAP90VastwbPK7s0AgLIMk6vXFRQUOJODkJCQCu1lF2goG2uz2ZyXmqOjo51JxUcffaS0tDSFhITI4XBo165dSktLq1LfPa2eBwBouLjyAAB+ICwsTA6HQ1LlH1KEhoaqpKREkuRwOBQUFCTpSoLRq1cvvf7664qKipLVatU999yjmTNn6p577iEZAABUiuQBAOoBb1cdpCvTj9atWydJbqctlZWYmKiMjAxJUmpqqoYPH+5si42N1aJFi9S/f39JUv/+/ZWSklKjK8SZWSEPAOCfSB4AwA/Mnj1b6enpCg8P16233uo1duHChUpOTpbNZtPGjRu1cOFCZ9ugQYP07bffatCgQZKkfv366dSpUy73O1S3hkTpCnkAgIanUV6jpvopAH/TqlUr59UESRo7dqzz+/JXLdq2bau///3vbvfTsWNHl/iePXtW2N7TVZCyz3vb5n//9389nQYAwM/V2TtoX1RHpfopAAAA4Dt1ljxUNr/Xl/uk+ikAAABQdZaioiJT77ibN29e4c15ZUsLZmRkKCEhQSUlJeratauWL1+uvn37umzr7mqBYRgqKCjQqFGjtHv3bkVFRSk1NVWtWrXyetyqVD8tPQ5QEywWi44cOeJ8fOONN9Zhb1DfuRtPAfgG4zNQs6yS1KxZM5/sPCEhQWvXrtWYMWO0a9cuTZgwQd98841LTNk/oEuWLHEWGpoxY4bWrFmjDh06aNu2bZozZ47+/Oc/V9jGm7y8PH3zzTfatWuX4uPjZbfbnQkLf7jhS55+py5cuGDq9424hh0HoO4wPhNHXPXirmraktmKqAMHDtTOnTu1a9cuRUVFVUgcyvr888+1d+9e/f73v5d0pUJqhw4dJF1ZuWPTpk1V7ifVTwEAAICac1XJg2EYzk/uy35f3oYNG/TTTz8pLi5OrVu31ueff+427sKFC3r22We1YcMG53N5eXnOxMRisSg3N7fK/aTgEQD4XmlBOgBAw+fTG6bDwsL0/vvvq7i4WC+//LIGDx7sNu7pp5/Wn/70J4WFhTmfCw0NdSYmhmE4K6sCAKq/Yp2Z7VnBDgBQXrWSh8ruG+jatasyMjIUEBCg8PBwt1cPtmzZomuvvVY9e/Z0eX7kyJE6efKkJGnTpk3q1atXdbrqguqnAFA5VrADAJTn0ysP69ev17Rp02S1WhUfH6/09PQKMTNmzND8+fNdpihJ0rx58/Too4/KZrNpwYIFWr9+vXMbqp8CaGgqG9dyc3N17733qlmzZnrrrbdc2r799lvddtttatmypcs4m5ubqwEDBshms+nee+9Vfn5+lY5d9nmLxaIlS5boF7/4hWw2m3bu3OkS44vaPQCA+senyUPPnj2VnZ0th8Mhu92u2NhYZ1vpJ1rHjx93mZ5U+nxYWJh27twpu92uI0eO6Oabb66wbXlVqX5aXFxc/RMEgFoye/ZsPfLIIzp//ryysrJc2qZPn65JkyZp3759evbZZ53Pz5w5U6NHj5bdbte4ceM0ffp0t/uu6gp227ZtU3x8vMu2rGAHAI2DpaioyDCzRBPLmwKelV9HPCIiwm1cfVhijbi6jytfk6Y8d2Nt+/btdfr0aQUEBKiwsNB5X5gkhYSE6OzZsxUWiWjdurXy8vIUEBAgu92udu3a6T//+U+FPpjt56VLl5zHKN/G3wfUV4zPxBFXs3EsRwQAdcjsG/CCggIFBFy5WBwSEuLSdu7cObery5Xdxmaz6cKFC9XqKyvYAQCqVWEawBVUMEVVuBtPK0sewsPDdfLkSVmtVp0/f14tWrSo9MpDy5YtdfbsWQUEBMjhcKh169YqLCw0dbzyMeXjufIAf8H4DNQsn1aYBhorKpgSV1WVvfkePny41q1bp4kTJ2ru3LkubQMHDtRbb72lHj166P7773cW5ExMTFRGRobi4uKUmpqq4cOHX1XfKlO6gl1wcLBP9g/UJMZn4oirXpxPb5gGANSM2bNnKz09XeHh4br11ltd2l566SW9+OKL6tu3r1577TXn8wsXLlRycrJsNps2btyohQsXut03K9gBAMzy+wmsJSUlzjm9tbEdANSFVq1aKSMjw/l47Nixzu9/+ctf6tixYxW2adu2rf7+97+73Z+31enMxJRfwQ4A0Dj4/bvnq61sWhMVUVnXHAAAAI2J3ycPV1vZlIqoAAAAQNVUK3mo7JP3goICxcbGymazKSYmRgUFBS7brlq1Si1btlTr1q2Vnp6u3bt3q2PHji7VS0tjt2/fruDgYPXv31+5ubkux7dYLLrtttuUk5MjScrJyVFkZKTHPpaviFo+pnxVVXfHrsq5AgAAAA2BT688zJgxQ2vWrJHdbtekSZM0Z84cl/YvvvhCeXl52rx5sxYtWqSsrCx9//33LtVLS23dulWFhYUaN26cZs+eLcm1smliYqLee+89SdKOHTsUExPjElNWVSuiujt2Vc8VAAAA8HdXVWHabEXUtm3bunxSHx4ertOnTzv3ce7cOefSfpVVLz116pTCw8M9VknNysrSnDlztH37dg0dOlSPP/64oqOjTZ+Pt/XLKzt2ZeeKho8KpsRVJY66CEDtYXwmjriajbuq1ZbMFgbKy8tzSTSaNGni0l5+TXBv1UvDw8Mlea6S2qNHDx0+fFh2u127d+/W5s2bKz8Rkyo7tlT5uQIAAAD+rloVpitLHlq2bOn8lL7Cgb182l/+scVi0c8//6yQkBDZ7XZ17NhRZ86cqRD32GOP6ZprrtGZM2eUmprq9Xw8XXmw2+1q2rRplY/t7VzR8FHBFFXhbjwF4BuMz0DNqlaF6cr++I0cOVInT55Ux44dtWnTJv35z3/WwYMHr+pYc+fO1ZIlS5SamqpRo0Y5ny9b2fSBBx7QyJEjtXjx4kr3V3a7wMBA7dy5UwMHDtT06dNNH9tX5wr/RwVT4gDUT4zPxBFXvTifFombN2+eRo0apT179ujmm2+u1lSiLl26KCgoSDExMdq4caPz+dLKpsXFxYqOjnauelTK09WRstuV3qAdFBSk5ORk08f21bkCAAAA9ZFPk4ewsDCXJVfL8lat1N3jiRMn0/geZgAAIABJREFUauLEiRX2U7ayaVZWlu666y7nPQru9uNuu5iYGNntdufj3/72t6aOXXbf3s4VAAAAaAh8mjzUlKZNm5qKGzBggNLS0urk2AAgSQ6Hw+viDwAA+DO/qDBdXFxsKu78+fOKi4urk2MDaNwcDodSUlIUGBioJUuWMHYAABokv0geAKA+27lzp26//Xbt379fBw8eVE5OjiIiIpSWliaHw1HX3QMAoMaQPADAVfr88881aNAgLV26VCkpKUpJSdHdd9+t5ORkZWZmatOmTerTp4/2799f110FAKBGMDEXAKrohx9+0Jw5c/TJJ59o3rx5iomJqXCfQ+fOnfXuu+9q//79mjJliq6//notXrxYnTt3rqNeAwBQfVx5qAUlJSV13QUANaC4uFizZs1S//79dccddygrK0txcXFeb5Du3bu3srKylJiYqEGDBmnKlCm12GMAAGpWtSpM16XKqlvXxnHN9iEyMlKff/65r7uGOmSxWOq6C6glAQEB+vbbb3XDDTdUedsjR46oT58+Kiws9EHPAHhChWmg5lSrwnRdqg+JjNk+HD582Mc9QX1Q9o9TRESE25j6UBmSuKuPy8vL04IFCxQdHa158+Zp6NChppdl3blzp55//nnFx8frzTffrBdjGNAYlP9whwrTxBFXvbhqTVuq7NNWi8Wi7du3Kzg4WP3791dubq5L25IlS5yfAJRWhrbZbIqJiVFBQYEk6eabb9bJkyclSTk5OerWrVuFY+fm5mrAgAGy2Wy69957lZ+f77GPZR9nZGTIZrPJarWqW7du+vDDD02fm9l9lcbwyTTg/9q0aVPlm6Hd3VQNAIC/8vk9D1u3blVhYaHGjRun2bNnu7R16NBBX3/9tSRpxowZWrNmjex2uyZNmqQ5c+ZIkmJjY5WZmSlJ2rVrl+6///4Kx5g5c6ZGjx4tu92ucePGafr06ab6lpCQoLVr18rhcGjJkiWaMGGCs62qnwp62lfpfviUEWg4Sm+GXrx4saZMmaIHHnhAJ06ccIn54Ycf9Oijj2r8+PGaPHmyMjMzFRkZWUc9BgCgZlxV8mCxWFw+Uff2qfrcuXMVEBCghx9+WG+//bZL2/DhwxUQcKULW7ZsUYcOHSRJ8fHx2rRpk6QrycMHH3wg6UryEB8fX+EYW7Zs0ZgxY5z73LJli6nzGDhwoHbu3Kldu3YpKipK33zzjantfL0vAP6h/M3QTz/9tH788ccq31QNAIC/uKrkwTAMl0/UvX2qHh4eLkmy2Wy6cOGC68ED/u/weXl5zkTE8v+xd+fxUZV3///fM0yGiDEBwmJAbMXKdgu1qA+ligYINIQQqRBZoreIGMFKcaGaChYFvYsFxbWKlF0Mi8VIMUFAbkApIre9ZWnvKtX7roj5agLRmFAcJjm/P/jlOJPMcjJLZpK8no9HHubkfM45nyt+OJnrLNdls5mPOA0dOlQ7duyQJH3wwQe66qqrGhyjoqLC3Jev4/izatUqffXVV8rOzlbHjh3Deqk5kvsC0LzcfPPNOnz4sM4//3ylpaXJ7XbrwIEDmjZtGp0GAECLEvXHlupGFXG5XOrQoYPfuJSUFLMjYhiGOSur3W5XRkaGnnrqKQ0ePNjvtnXDobrdbiUmJvqMc7lcXsupqanavn27Tp8+rWeeeUajRo1qdPuisS8AzU9iYqJmzpypM2fO6Le//a3at28f65QAAIi4sDoPVp7jnzdvniSpsLBQeXl5fuMmTZpkvhi9fv16DRo0yFyXkZGh+++/3+f7DpI0duxYFRcXm8cZP368uS4hIUFbt25VbW1tg3ch+vXrp+LiYtntdqWlpXm90N1YgfaVkJCgqqqqkPcNoPngTgMAoCWL+l+5Xr16KTExUZmZmVq9erXfuPnz5ysvL087d+5Unz59tGHDBnNddna2EhISlJ2d7XPbBQsWaMKECbrxxht1/fXXa926dea6zZs3KycnR4mJiVq8eLHXditWrNDtt9+unJwc2e12FRUVmesaO49EoH3l5OSoU6dOOn36tOX9AQAAAPEm6p2H/Px85efnN/h5/Q/mqamp2rp1q899dO3atcEjR57bd+7cWW+//bbPbTMzM722vf32283vr7rqKh05csTndv46Dp4/9/w+0L5ee+01nz8HAAAAmpOozjCdmJjI1Xa0CjabjRlMYVko51MAoeH8DERWVGeYpuOA1ooZTIkDEJ84PxNHXHhxUR9tCQAAAEDLQOcBAAAAgCV0HgAAAABYQucBAAAAgCV0HgAAAABYQucBAAAAgCV0HgAAAABYQucBAAAAgCVRnWEaaC2YwRSNwfkUaDqcn4HIiuoM00BrxQymxDU3tbW1stub7ma01eNFO694yQNNh/MzccSFF8eZEABaGJvN1ui4gQMHRuTYGzduVF5eXtA4q8cLN69jx44pMzNTiYmJSkpK0t13362qqqomz6M+q/+PIu3IkSPq1auXnE6nBg4cqL179zZ6H+HmbnV7f7nm5eVp06ZNYeUAIHR0HgCghbH6SJRn3MGDB8M+rtvt1uzZs/Xss88GjbV6vHDzuummmzRmzBidOnVKJ0+eVIcOHfTQQw81eR7xYuHChbr77rvlcrmUm5ur559/PtYp+eUv12effVZz5syR2+2OcYZA60TnAQBaGM8ruzabTYsWLdJFF10kp9OprVu3Noir/99QLV++XDk5OUpNTZUkFRcXy+l0yuFwaMCAAdq9e7fP4+3fv18DBw6U0+lU165dtWbNGp9xFRUVysrKktPpVGZmpioqKny22dMHH3yg/Px82e12OZ1OzZ8/XytXroxaHv6UlZVp2LBhateundauXeu1ru7/Ud2z+GVlZRo+fLicTqeGDRumEydOSJL69Omj48ePSzp7Vd5ms2n//v2SpOPHj6tXr15B83j33Xc1bdo0SdK0adN0+PDhsHL/9NNPdemll6p9+/YqKiry2sZXGxrDX66pqanKzMzU8uXLG71PAOGj8wAALVx5ebk++eQTbd68WTk5OQ3W192BCPcl7qKiIo0ePdpcHjNmjJYtWya3261FixZpypQpPo9322236cknn5TL5dKLL76oGTNm+IybPXu2li5dKpfLpbvuukuPPvpogzbUl52drYcffliFhYX6+9//LkmqrKyMWh7+zJ07V1OnTlVVVZUOHDjQYH337t119OhRSdKcOXN08803y+VyafLkySooKJAkZWVlaceOHZKkXbt2qVu3btq5c6ck6c0331RmZqZsNpvPrzqlpaVyOp2SpA4dOujTTz8NK/eCggLddddd2rNnj+6//37z5/7a4CmcXG+44QZt3rw5aO4AIs9WXV1tWHlRwmazMToI4Ef90Tz69+/vMy4eXnQiLvZx0T6feu7fZrPpzJkzcjgcPtf5+j5USUlJOnnypPmBLzs7WykpKbr11ls1dOhQM4dgx/OXV+fOnVVWVmbGpaWlqbS0NGBOFRUVeuCBB/Txxx9r79696tWrl9atW6cBAwY0aR5du3ZVaWmp7Ha7KisrlZKS4rXvmpoa84Xsjh07qry8XHa7XS6XS126dNHXX3+tbdu2acWKFSosLNS4cePUt29fvffee9q+fbvGjRunyZMnKzs7O2Ae9dvrdDrlcrlCzj05OVknT570+n8bqA2+cgglV5fLpU6dOpkdwWD74fxMHHGRi3MEiQUARInnVdZodibqf7CLltOnT5sdB0latWqVJkyYoOzsbCUmJmrPnj267LLLGmx34sQJvfTSSzpy5EjAdwvKy8u9fmdt2rQJmlOHDh20dOlSSWc/cP7+97/XpEmTdOTIkSbNo6KiwuwcJCcnN1jvOZKTZ6zT6dSpU6ckSRkZGbrlllskSe+8847WrVun5ORkud1ubdu2TevWrQuaxznnnOO1bKU2AuX+7bff+tyHvzY0RqBcnU6nTp8+3eh9Aggfjy0BQIwYhmF+tQTt2rXzuoqdmpqq7du36/Tp03rmmWc0atQon9tlZWXJbrcrLy9PJSUlfvdfd8W77svKC7PJycmqra2VdPYD5z333KN//OMfTZ5HamqqGec52pO//dfl7Ha7lZiYKOlsB2PQoEF6+eWXzTs51113nebMmaPrrrtODocj6KNAF154oXm1vqqqShdccEFYuZ933nk+2++vDZ7CydXlcvncJ4Doo/MAAFBCQkLQD7XBpKenm8/gS1K/fv1UXFwsu92utLQ0r0d9PI93+PBhjR07ViNGjNDixYv95jVp0iQdO3ZMkrR+/XoNGjQoaE6TJ0/W448/rsrKStXW1uqJJ57Q4MGDmzyP8ePHmy/4zps3L2Ds2LFjVVxcLEkqLCzU+PHjzXVZWVl64oknNGTIEEnSkCFDtGbNGmVkZEjy7pD66pxec801euGFFyRJzz33XNi5jxgxQmvXrtXf/vY3r8nXArWhTji57tq1S+np6UFzBxB5jZphGoB/zGAKq6I9w3Sgdxn8rRs3bpy2bNkS1qMgL7/8sg4dOmQOqbl//37dfvvt+vvf/y673a6ioiJlZWU1ON7mzZtVUFCgL774Qo899phmzJjhM68TJ04oLy9PO3fuVJ8+fbRhwwb16dPHZzvrnDp1SgUFBVq+fLncbrcyMjK0dOlSpaWlNWkeFRUVysvL03//939rwYIFmjx5st//R2VlZZowYYLeeecdXX/99Vq3bp05gtWxY8d04YUX6rPPPlOPHj20f/9+XX311frrX/+qfv36Bf1/dODAAU2YMEH//Oc/1bNnT23atEmXXnppyLl/+umnysrK0okTJ7RmzRplZmYGbYPVdx4C5Xr33XdrwIABys/PD7ofZpgGIosXpoEI4IU84hoT11LPp263W71799a7775rfjhvbe644w7zHYvmprnkXlpaqmuvvVYfffSRpXc2OD8TR1xk43hhGgDiUKjPc4f7Emk4x3U4HFqwYIFmzZrVYD6A1qJbt26xTiFkzSX3goICLVy4sMkGAgDgjX95ABCHYjWSTLjHzc3NVW5uboSyaX6szPkQr5pL7qtWrYp1CkCrxgvTAAAAACyh8wAAAADAEjoPAAAAACyh8wAAAADAEl6YBoBmIBbDuwaaL8JfnCRt3LhRRUVFks5OFnbjjTc26liR0lKHxAWAWKLzAADNQKw/BFs9vtvt1uzZs7Vv3z5J0uDBg5WTk8OwmgDQQjRqhulY//EC4hUzmKIxfJ1Pg10l91xfXFysMWPGqLa2Vv369dNzzz2n66+/PuAx+/Tpo+3bt6tHjx46fvy4Ro4cqUOHDmn//v2aPn26jhw5og4dOmjRokW65ZZbGhzT8/u62YP37dunpUuX6uabbzbXvfzyy/r444+1aNEiSdJ9992nPn36mDMB+2unzWbT0aNHNW7cOKWmpmrdunXq3LmzebxJkyZp9+7dGjx4sDZs2GDOVhxoHXceIHF+BiKuurrasEKSpTigNZJkHDp0yPzyx+q/N+Jadpyv82mwc6zn+oSEBGP16tWGYRjGW2+9ZfTs2TPoMe+9915jyZIlhmEYxvLly42HHnrIMAzD6Nu3r7Fz507DMAzjj3/8o5GSkuLzmJ7fT58+3Xj11VeNmpoaY+bMmV7rRo4caezatctc3rVrlzFq1Kig+Ukypk+fbtTU1Bh//vOfjfz8fHNdfn6+sXLlSsMwDGP16tXG1KlTLa3j7xYMg/MzccRFOs5WXV1tWJmWmis4gH/1r2z179/fZ1w8TCtPXOzj6l/Rr8/XudZzm+zsbKWkpOjWW2/V0KFDLT0StGPHDi1btkyFhYWaOHGi7rnnHl111VVBc/P1fdeuXVVaWiq73a7KykqlpKSY65KSknTy5Ek5nU5JksvlUqdOnVRZWRn0d1JeXm7eNejYsaNOnjxpfl9eXi673S6Xy6UuXbro66+/DrqOv1uQOD8TR1yk45r1aEu1tbWxTsGveM4NQPwwDMP8gOv5fSCrVq3SV199pezsbHXs2FEffvhh0G2GDh2qHTt2SJI++OADs+Nw4sQJPf7445o4caL69etnKeeKigrZ7Wf/fCQnJ3utO336tNlxkCSn02l51uq6joMkVVVV+Tye0+nUqVOnLK0DAERe3HQefF19CxY3cODAiBx748aNysvLi8i+6gTKzWpbW5tY/l5sNpvXlyTl5eVp06ZNMcsJ8Cc1NVXbt2/X6dOn9cwzz2jUqFFBt7Hb7crIyNBTTz2lwYMHmz/PysqS3W5XXl6eSkpKLB/f7XZL8v6QL0nt2rWTy+Uyl10ulxITEy3t98iRI5LOXnxJSUkxf56SkmJekHG73V77C7QOABB5cdN5sHpr2TPu4MGDYR+3bmSQZ599Nux9eQqUG7fRfYv176X+Vd9nn31Wc+bMMT8kAdHUmPrv16+fiouLZbfblZaWprKyMkvbZWRk6P7779fo0aPNnx0+fFhjx47ViBEjtHjxYkv7GT9+vJYvXy5Jmjdvnte69PR07dy501zetWuX0tPTLe135syZkqS9e/d6XdAZO3asiouLJUmFhYUaP368pXUAgMiLm86D51Vnm82mRYsW6aKLLpLT6dTWrVsbxNX/b6iWL1+unJwcr9E5XnrpJbVv314dO3ZUUVGRduzYoR49ejTIZf/+/Ro4cKCcTqe6du2qNWvW+M1x0aJF5ggPdT/PzMw0hzPcsWOHbrrppoBt8nc8f8fwXPa37aWXXqrjx49Lko4fP67LLrss4O/LZrNpy5YtSkpK0pAhQ7w+tNQ/ZkVFhbKysuR0OpWZmamKigpJZ0d9OXbsmHnMAQMGNGh3WVmZhg8fLqfTqWHDhunEiRNex6mfU53i4mI5nU45HA4NGDBAu3fvDtieQFJTU5WZmWl+SALixYoVK/TAAw/I4XAoJyfHnFMhmOzsbCUkJCg7O9v82bp16zRmzBh16dJFP/rRjyztZ+7cuSoqKlJaWpr+7d/+rcExtmzZYi5v3rzZ63iBztlLlizRpZdeqt/+9rdenZIFCxZo8eLFcjqdWr16tRYsWGBpHQAgCuJltCXVG9XjwQcfNGpqaoySkhIjISHBb1y46o8MIsmYMWOGcebMGWP79u3G1VdfbfzHf/yHz1waM0pJ3cgknusOHjxoXH311UZNTY1x+eWXG59//nnAXIMdr/4xPJf9bfub3/zGePHFFw3DMIwlS5YYDz74YMAcJBlTp041ampqjJUrVxrTp0/3m8P06dPNNr3xxhvGzJkzDcPwP+qL5++sMSOoyMIoNJJ8fvnah+f3jRkphtE8iIuX82ksnTlzxujZs6fxxRdfGF988YXRs2dP48yZM7FOC60Y52fiiItsXNyMtlR/VI8zZ86YI4hYGf0jVPVHBrHZbPr222+VlJQUNJdgbfD8vqamxnypz3PdLbfcom+++UaXX3655s6d26jcgx3Dc9nftgcOHNCjjz6qLVu2aNy4cZo2bZoyMjICHvOLL75QWlqaz5FNPI/ZuXNnrzsTaWlpKi0t9Tvqi2d7GjOCSrij0Pj6XdZ935iRYhjNg7hQRluKpEDP+1t9aTkS6maYdjgcuuGGGyzNMA1EC+dn4oiLbFyjp/z0vOUczc5EU81GWn9kEElmxyFYLidOnNBLL72kI0eOBH3/wt+H+F/+8pe65pprtGHDhqC5Bjte/WN4Lvvb9sorr9TBgwflcrm0Y8cOS3mkpaVJ8j2yiecxy8vLveqlTZs2ks6O+jJx4kRJ3qO+eAp1BJVVq1ZpwoQJys7OVmJiovbs2RP0UaxAGjNSDBBr8VKrubm5ys3NjXUaAIAoiJsZpgPdUYjmnYfk5GSVl5d73Xnwd+z6y1dddZXGjBmj/v37q3///vrhD39oKU/P5XvuuUcHDhxQTk6OHnzwwYC5Wj2er+VA2955550655xz9OWXX6qwsDBgDjabTd98842Sk5PlcrnUo0cPffnllz6P2b59e/NuQX0TJ07UlVdeqb/+9a9atmxZg+3bt2+vkydPym63y+12q2PHjubV//p3Btq2bdugDmpra7Vq1SrNmTNHx48f9/ucdbD/X6HeeWAGUwQS7fMpgO9xfgYiLF6e0VWAdxn8rUtISDC+/fbbsI47evRoo6SkxNKx6y+fc845xkcffWR89913DWZZ9czN3z4++ugj4/LLLze+++47o3///kHfeQh0vGB5B9q2pKTE6NChg/GHP/wh4PHr9nv//fcbhmEYK1euNO69916/x5w+fbrx2WefGYZhGOvWrTOuvvpqc90f/vAHQ5Lx+uuv+9x+ypQpxp/+9CfDMBq+85CQkGCUlJQYNTU1xr333uu1Xd++fY0333zTbJfnOyrB2uXr+7feessYPXq0pe15ppa4eDmfAvge52fiiItsXNyMthSKnJwcderUKax91B8ZpDECjVJiJbdZs2bpmWeekdPp1KJFi/SLX/xCkv/RSEIZFcXKthkZGebISHUCjYjSq1cvJSYm6vXXX9cjjzziN27+/Pm644475HQ69fjjj2vFihXmOl+jvngKNILK5s2blZOTo/bt2zcY6SXUUWj8qT9SDAAAQGsWNy9Mx4rb7Vbv3r317rvvms/ytzb79u3TPffco/3795s/u+OOO7R06dIGsS21Dnw9tlRaWqprr71WH330UdB3cHghj7jGxLXUf0eB1NbW+n33C4gmzs/EERfZuIi+lRzqzJ7hvuQXznEdDocWLFigWbNmae3atWHl0VwNHz5c69at8/pZt27dfMa2bdu2KVJqcm3btjXrqK6NBQUFWrhwYZO9vA+0ZAMHDtSHH37oc52VzlTdCE7S2YnhGMEJAGIjop+KYjXSR7jHbe0jg1RVVTX42aOPPuozNl5Gc4k0X+1atWpVDDIBWqZAI9IF6zi43W7Nnj3bnFRz8ODBysnJoWMPADHAPWQAiAOB3jOqW79o0SJddNFFDWa7DzSbe90M8keOHJHNZjMfTzx+/Lh69eplKa+XXnpJ7du3V8eOHVVUVKQdO3aoR48eDfLwN5N9Xds8/+s5G33dzzMzM80Owo4dO3TTTTdJkpYvX66cnBylpqb6nPnd3+/OXz7+cvBc9rftpZdeav5Ojx8/HtZQ0ADQHNF5AIBmory8XJ988ok5aECd2bNna+nSpXK5XLrrrrvMO4dZWVnasWOHJGnXrl3q1q2bdu7cKUl68803lZmZaem4f/vb31ReXq4NGzboiSee0IEDB/TPf/6zQR633XabnnzySblcLr344ouaMWOGpO/vLHjeYejevbuOHj3qdZzf/e53uu+++1RbW6uCggItXrxYklRUVKTRo0ebcTfccIM2b95sLvu7c+EvH385eC7723bs2LH605/+JKlxv0MAaCla/QvTQCTwQh5xjYmr/4J+fb7OtYFmu/c3m/u2bdu0YsUKFRYWaty4cerbt6/ee+89bd++XePGjdPkyZODjiZms9n07bffmpNnBsojWDs9v/ecjd5z3S233KJvvvlGl19+uebOnSvp7MSdJ0+eNOfjsTr/SrB86ufguexv2wMHDujRRx/Vli1bNG7cOE2bNk0ZGRmNygNNi/MzccRFNi7uHxhlhA4ALZmvD9f++HvG399s7hkZGbrlllskSe+8847WrVun5ORkud1ubdu2rcFACf7UdRyC5eFvJntf/J3Xf/nLX+qaa67xmu3+9OnTZsdBsj7ze7B86ufguexv2yuvvFIHDx6Uy+XSjh07vPIEgNYgZjNMW72Tcdlll3mN0MGIG4hHzGCKxvB1Pg12Tgw0i3yg2dzHjBmjrKws/ed//qcKCwuVmZmpyy67TEeOHLE0x02w2es9lwPNZO/vLkT95XvuuUcHDhxQTk6OHnzwQUlScnKyysvLG33nwWo+vpYDbXvnnXfqnHPO0ZdffqnCwsKgv0PEFudnIMJiNSOq1f15xp05c8a45JJLjPLycqO8vNzo27evcebMmYjmBYRCzGBKXCPiQjmf1t/GcznQbO5LliwxevbsaSxZssQwDMNYsGCB0a1bN2Px4sVhH7f+cqCZ7BMSEoxvv/024D4++ugj4/LLLze+++47o3///sbnn39uGIZhjB492igpKTHjrc78HiifYO0KtG1JSYnRoUMH4w9/+EPQHBB7nJ+JIy6ycWE9D2RldJAtW7YoKSlJQ4YM8Xom11NZWZmGDx8up9OpYcOG6cSJE177r/tvsBE3AKA1CjSb+8iRI/Xpp59q5MiRkqT09HR98cUXGjFiRMTzCDSTfU5Ojjp16hRw+1mzZumZZ56R0+nUokWL9Itf/ELS2RnpPe+S1J/53d/fokD5hNOWjIwMc4QrAGhtwnph2spt9qlTp2rJkiVas2aN9u/fr9///vcNtr3zzjv105/+VLfeeqvWrFmjPXv2mLMbe8ZlZWXpwQcf1PXXXy9J2r17txYuXGjp1jsQTbyQR1xj4hiAonHcbrd69+6td999V5Isz/weLfv27dM999xjDnuL+Mb5mTjiIhsX0p0Hm83mdVcg0B2IefPmyW63a+LEiXr11Vd9xmzcuNF8qW/8+PHauHGjz7g9e/Zo0KBB5vKgQYO0Z8+eUJoAAJCUmJjo9yteOBwOLViwQLNmzYqLmd+HDx+uhx9+OGbHB4BYCunsa/h54cyXtLQ0SWdHxzh16pTPmIqKCnOUi0BxoY64AQDwrbmcQ3Nzc5WbmxvrNCRJVVVVsU4BAGIm6mOg1o2G4XK51KFDB58xKSkpqq2tlXT29rS/K17t2rWTy+Uyl10uV1xdHQMAAABasrA6D1ae2Z03b54kqbCwUHl5eT5jxo4dq+LiYjNu/Pjx5rqEhATzKk96ero5O6p0dsbU9PT0kPMHAAAAYF3U7zz06tVLiYmJev311/XII4/4jFmwYIEWL14sp9Op1atXa8GCBeY6zxE6go24AQAAACB6ov7GWX5+vvLz8xv83POuRefOnfX222/73P61114zv58yZYp69+6t0tJSSVJJSYmefvp3NmOxAAAgAElEQVTpCGcMAIh3tbW1fmepBgBET1RnmE5MTIz4y3h1M0w7HA7dcMMNzDCNuMAMpmiMUM6nzV3duVs6+6hquOfuyy67TB9++GEkUkMLx/kZiKyw5nkAcBbjiBPXmLjWdj51u93q16+f9u3bJ0kaPHiwDh06FNZwq63td4jQcX4mjrjIxnHPFwBaGJvNpkWLFplXWOtmQ3Y6ncrMzFRFRYVX7JYtW5SUlKQhQ4aorKzM735CtXz5cuXk5Cg1NVWpqanKzMzU8uXLvY7jS3FxsZxOpxwOhwYMGKDdu3d7xXv+NxJ5AgCCo/MAAC1Q9+7ddfToUUnS7NmztXTpUrlcLt1111169NFHvWLfeOMNVVZWavLkyZo7d67f/YSqqKhIo0ePNpdvuOEGbd682Vz2dwdhzJgxWrZsmdxutxYtWqQpU6Z4xXtuF4k8AQDB0XkAgBZo/Pjx5gvFGzduVPfu3SWdHcFu/fr1XrHz5s2T3W7XxIkT9eqrr/rdT6j27NmjQYMGmcuDBg3Snj17gm43YsQIbd26Vdu2bdPQoUP1ySef+I2NRJ4AgODi/kxbN3kcALQ0NpvN/Io0zw/S5eXlXsfyfDRJktLS0iRJTqdTp06d8rufUJ0+fVpOp9NcdjqdlgbTWLVqlb766itlZ2erY8eOAV+QpuMAAE0jZmdbq38sBw4cGOVMomvjxo3Ky8tTXl6eNm3aFOt0AMQRwzDMr2hKSUnxOpbb7fZaX1lZKUlyuVzq0KFDxI/frl07uVwuc9nlcikxMTHodqmpqdq+fbtOnz6tZ555RqNGjYp4bgCAxon7SzUHDx6MdQohc7vdmj17tp599lk9++yzmjNnToM/2gAQbZMmTdKxY8ckSevXr/d6hEg6+9iSJBUWFiovLy/ix09PT9fOnTvN5V27dik9PT3odv369VNxcbHsdrvS0tK87pgkJCSoqqoq4rkCAAILq/MQ7O5BoFE8PJWVlWn48OFyOp0aNmyYTpw44bV/K3cpbDabXnrpJbVv314dO3ZUUVGRduzYoR49esjpdGrr1q1Bj9enTx/zD+zx48c1YMAASYFHKvE3GogUfIQRAGgK8+fP1x133CGn06nHH39cK1as8Frfq1cvJSYm6vXXX9cjjzwS8eNnZ2dry5Yt5vLmzZuVnZ1tLvs7x69YsUIPPPCAHA6HcnJyzHkipLPvbnTq1CniuQIAAov6nYdAo3jUmTNnjm6++Wa5XC5NnjxZBQUFknyPqBHI3/72N5WXl2vDhg164okndODAAf3zn//U5s2blZOTE/R4WVlZKikpkSRt27bNHB0k0Egl/kYDkYKPMAIA0VD/nJmamqqtW7fK5XLp0KFD6tOnj9f6/Px8nT59WkVFRUpOTva7n1BNmTJFJSUlKi0tVWlpqUpKSrzOlf6Oc9VVV+nIkSNyu91yuVzKysoy17322mvmexPM9wAATSekGaZ9XSXydfK22Wz64osvlJaWJpfLpS5duujrr78219Vt07FjR5WXl8tutweMC9gQm03ffvutkpKSzOUzZ86YkxBZOd6OHTu0bNkyFRYWauLEibrnnnt01VVXqXPnzl53TdLS0lRaWirp7BW1lJQU3XrrrRo6dKjXpEdJSUk6efKk+aKgy+VSp06dzOeL0XIwgykaw8oM01beCfDFyovI9Y9jZZtw86mbYdrhcOiGG24Ie4ZpwCrOz0BkhTXDdLAP9vXXO51O86U5z3VW4xqTX6Blf8erra1V165dVVZWpl69eunjjz824z21adPGfHfhxIkTmjBhgnbv3q3ExETt2bNHl112mSTJ4XA0eMfBs21oOZjBlLjGxDE7MtB0OD8TR1xk46L+2JKVUTxSUlLMIVndbnfIV7is8nc8u92ujIwMPfXUUxo8eLBXvL+RSgKNBhLqCCMAAABAPAqr82DlypmVUTzGjh2r4uJiM278+PHmumiMqBHoeBkZGbr//vu93lUINFJJoNFAQh1hBAAAAIhHjuAh4akbxSMzM1OrV6/2GbNgwQJNmDBBN954o66//nqtW7fOXFc3okZjn+MNJNDxsrOzlZCQ4DUSyPz585WXl6edO3eqT58+2rBhg7luxYoVuv3225WTkyO73e41GkjdCCOZmZmSGo4wAgAAADQnUe885OfnKz8/v8HPPe9adO7cWW+//bbP7V977TVLx6l/FyTQcqDjde3atcE7CXUjlfhSNxqIL1OmTFHv3r3Nl6tLSkr09NNPB24IAAAAEKei2nlo27ZtxPYV6F2BSN6ViCSHw6EFCxZo1qxZcjgcWrhwoddoTAAAAEBzEtVPspH8UB+vHYRgcnNzlZubG+s0AAAAgLBFfbQlAAAAAC0DnQcAAAAAloQ0wzQAb8xgisbgfAo0Hc7PQGQ5JFmaWQ6RVVtbK7udGz8tlb9/U/EwMyRxsY8DEDucn4kjLrw4Pr1atHHjRuXl5SkvL0+bNm0Ke38DBw6MQFYAAABA02HcUAvcbrdmz56tffv2SZIGDx6snJycsIZdPXjwYKTSAwAAAJpEWHcebDZbpPJosN9FixaZzyVWVFQoKytLTqdTmZmZqqio8IrdsmWLkpKSNGTIEJWVlfndT6iWL1+unJwcpaamKjU1VZmZmVq+fLnXcXwpLi6W0+mUw+HQgAEDtHv3bq94z/9GIk8AAAAgmuL2saXu3bvr6NGjkqTZs2dr6dKlcrlcuuuuu/Too496xb7xxhuqrKzU5MmTNXfuXL/7CVVRUZFGjx5tLt9www3avHmzuezvxccxY8Zo2bJlcrvdWrRokaZMmeIV77ldJPIEAAAAoimkzoPNZvO6ah6NOxDjx483XyjeuHGjunfvLknKycnR+vXrvWLnzZsnu92uiRMn6tVXX/W7n1Dt2bNHgwYNMpcHDRqkPXv2BN1uxIgR2rp1q7Zt26ahQ4fqk08+8RsbiTwBAACAaArp06phGF5Xz6Mx5KDnB+ny8nKzk2Kz2bweTZKktLQ0SZLT6dSpU6f87idUp0+fltPpNJedTqelGa9XrVqlr776StnZ2erYsaM+/PBDv7F0HAAAABDvmsUn1pSUFLOTYhiG3G631/rKykpJksvlUocOHSJ+/Hbt2snlcpnLLpdLiYmJQbdLTU3V9u3bdfr0aT3zzDMaNWpUxHMDAAAAmkpYnYemmuRo0qRJOnbsmCRp/fr1Xo8QSWcfW5KkwsJC5eXlRfz46enp2rlzp7m8a9cupaenB92uX79+Ki4ult1uV1pamtcdk4SEBFVVVUU8VwAI1//93//FOoWIiPd2xHt+VrWUdgCwxiGpwaM+8Wb+/PnKy8vTzp071adPH23YsMFrfa9evZSYmKjMzEytXr064sfPzs7Wli1blJmZKUnavHmzsrOzzfU2m81nR2rFihW6/fbblZOTI7vdrqKiInNdTk6OOnXqZOnxJzQ/gf5NWf33RlzLjovWaHXhuvbaa/Xuu+/GOo2wxXs74j0/q5pjOzg/E0dceHG26upqw8rMcv4+IMdaU+TldrvVu3dv8wR57bXX6qOPPgprnge0LDabTYcOHTKX+/fv7zMuHmaGJC7+4g4fPhx0m6Zgs9n05JNP6oMPPlCXLl20ePHiWKcUknhvR7znZ1VzbQfnZ+KICy8uau88JCYmhvTVWG3bto16Pg6HQwsWLNCsWbNUUFCghQsX0nEA0OIcPXpUf//73/WXv/xF//rXv7we12xO4r0d8Z6fVS2lHQAaJ2qfgJvqcRyrxwk3n9zcXOXm5oa1DwCIZw8//LBWrlwph8OhFStWaPjw4bryyit13nnnxTq1Ron3dsR7fla1lHYAaBwunwNAjMXDYxSPPfaYhg8friuuuELS2XfJ7rjjDm3cuNHv4yjxcPu8vnhvR7znZzWupbQDQOPReQCAVu4f//iHVq1apQMHDnj9vKCgQD/5yU/0X//1X+aHxHgW7+2I9/ysaintABCaZjHPAwAgembMmKGFCxeqffv2Xj93OBx68cUXNX369Abz68SjeG9HvOdnVUtpB4DQ0HlopNra2linAAAR88orrygxMVFjxozxuf7aa6/VZZddpueff76JM2uceG9HvOdnVUtpB4DQ8djS/2/jxo0qKirS2rVrA8YNHDhQH374oaTIDBObl5ensWPH6sYbbwwaG41haeN1CF4A0ff//t//0y233CLJ2rwT48aN0wUXXBDttBot3tsR7/lZ1VLaASA8dB50dh6H2bNna9++fUFjDx48GNFjP/vssxo8eLBycnIY/hVAkzr//PN9XjxobhcV4r0d8Z6fVS2lHQDCY6uurrb0L/7cc89tcHKI1gmjoqJCeXl52rFjh4YOHarCwkJ16NBBklRWVqZx48bp008/1XPPPaef//znYefw8ssv6+OPP9aiRYvMY0yaNEm7d+/W4MGDtWHDBqWmpnpdaTEMQzabTRs2bNCdd96pqqoqbd682ZyFOlAbbDabFi5cqBdffFGffPKJ7rvvPvXp00f5+fnmen8n6KNHj2rcuHFKTU3VunXr1Llz54A5B1vHST8y6k8Sd/HFF8cwGyA85557rqqrq2OdRtjivR3xnp9VLaUdACyqrq42rJBk6WeRMH36dOPzzz83DMMw3njjDWPmzJnmuilTphhvvvmmUVNTY0yZMiUiOYwcOdLYtWuXuZyfn2+sXLnSMAzDWL16tTF16lRznefxJBkPPvigUVNTY5SUlBgJCQmW2iDJePXVV42amhrDMAxj165dxqhRo4LmKcmYPn26UVNTY/z5z3828vPzLeVstT0InSTj0KFD5pc/Vv+9EUdcLOOsnhdoR3hx8Z5fa2sHccQRZy3OVl1dbVgZ/9jzCrWvZx2NCF697ty5s8rKyszltLQ0lZaWSpI6duyo8vJy2e12lZaWqlu3bmEfOykpSSdPnpTT6WxwDJfLpS5duujrr7+W1PD3cObMGfNxI891gdpgs9lUU1Mju/3s++oul0udOnVSZWVlwDxtNpvKy8vNuwYdO3bUyZMng+ZstT0IXf07D/Ewbj9xxIUaZ/W8QDtadn6trR3EEUectbiQHrL3/PAcjQ+e5eXlXh2UNm3amN9XVlaaH7rT0tIicrzTp0+bHQfp7CNHdcdwOp06deqU3239vacQqA2SzP3XHcPqDNh1HQdJqqqqspRzY9oDAAAA+BOXQ7WmpKTIMAzzy3O86M6dO5vDpQa7Um9Vu3bt5HK5vI5fdwy3263ExMRG7zNQG+pzuVyWj3HkyBFJZ4eMTUlJsZRzJNoDAAAAhNV5iNbjLpMmTdKxY8ckSevXr9egQYPMdXl5eSoqKpIkPfLIIxE5Xnp6unbu3Gkujx07VsXFxZKkwsJCjR8/3lyXkJDgdcU/lDbUt2vXLqWnp1vKdebMmZKkvXv3Ki8vz1LOgdYBAAAAVsXlnYf58+frjjvukNPp1OOPP64VK1aY6x555BFzkppIjR+dnZ2tLVu2mMsLFizQ4sWL5XQ6tXr1ai1YsMBcl5OTo06dOoXVhvo2b96s7OxscznQ+NlLlizRpZdeqt/+9reaN2+epZwDrQMAAACsisuJBVJTU7V161af65KSkrRp0yZz+f777w/7eFOmTFHv3r1VWlqqtLQ0de7cWW+//bbP2Ndee838vv6dF8/lQG3wjCstLVVJSYmefvppv/ut//O6R5c8Bco50DpelgYAAIBVUes8hPpcvdUXh+u0bds27OM5HA4tWLBAs2bNCjrDdKQVFBRo4cKFTBAHAACAuBe1T6yN7QSEe5xwj5ebm6vc3NxIpNQoq1atavJjAgAAAKEIa4ZpAGcxwzRakpYyY3C8tyPe87OqpbQDgDUOSZYmhwBgnb9/U/EwuQtxxFkRz/m1lHbEe36trR3EEUectbi4HG0JAAAAQPyh8wAAAADAEjoPAAAAACyh8wAAAADAEjoPAAAAACyh8wAAAADAEjoPAAAAACyh8wAAAADAkkbNMA3AP2aYRkvRUmYMjvd2xHt+VrWUdgCwxvIM09XV1V5xhw8fjl5WQDPHDNPENec4qWXMGCzFdzviPb/W1g7iiCPOWhyPLQEAAACwhM4DAAAAAEscoW7Yv39/nz+Ph9spxBEXr3EAAADNGXceAAAAAFhC5wEAAACAJXQeAAAAAFhC5wEAAACAJXQeAAAAAFhieYZpAEDr0FJmDI73dsR7fla1lHYAsMZWXV1txPPQlsQRRxxxxDVtnM1mk2EEv65EO1p2fq2tHcQRR5y1OB5bAgAAAGAJnQcAAAAAltB5AAAAAGAJnQcAAAAAltB5AAAAAGAJnQcAAAAAltB5AAAAAGAJnQcAAAAAljDDNADAS0uZMTje2xHv+VnVUtoBwBpmmCaOOOKII85LS5kxON7bEe/5tbZ2EEcccdbieGwJAAAAgCV0HgAAAABYQucBAAAAgCV0HgAAAABYQucBAAAAgCV0HgAAAABYQucBAAAAgCV0HgAAAABYwgzTAAAvLWXG4HhvR7znZ1VLaQcAa5hhmjjiiCOOOC8tZcbgeG9HvOfX2tpBHHHEWYvjsSUAAAAAltB5AAAAAGAJnQcAAAAAljhinQDQmpx77rmxTgGwxGazxTqFVqGl/J5bSjvQsll5NwfB0XkAmhgvFhLHi61NFxfPqqur4/73R/0R11Li6OBGDo8tAQAAALCEzgMAAAAAS+g8AAAAALCEGaaBJsRMrIgl6g+xRP0hlqi/yGGGaeKIa8I4XhgkLpZx1B9xsYyj/oiLZRz1F7k4HlsCAAAAYAmdBwAAAACW0HkAAAAAYAmdBwAAAACW0HkAAAAAYAmdBwAAAACW0HkAAAAAYAmdBwAAAACWMMM00ISY4RKxRP0hlqg/xBL1FznMME0ccU0YxwyXxMUyjvojLpZx1B9xsYyj/iIXx2NLAAAAACyh8wAAAADAEjoPAAAAACyh8wAAAADAEjoPAAAAACyh8wAAAADAEjoPAAAAACyh8wAAAADAEmaYBpoQM1wilqg/xBL1h1ii/iKHGaaJI64J45jhkrhYxlF/xMUyjvojLpZx1F/k4nhsCQAAAIAldB4AAAAAWELnAQAAAIAldB4AAAAAWELnAQAAAIAldB4AAAAAWELnAQAAAIAldB4AAAAAWMIM00ATYoZLxBL1h1ii/hBL1F/kMMM0ccQ1YRwzXBIXyzjqj7hYxlF/xMUyjvqLXByPLQEAAACwhM4DAAAAAEvoPAAAAACwhM4DAAAAAEvoPAAAAACwhM4DAAAAAEvoPAAAAACwhM4DAAAAAEuYYRpoQsxwiVii/hBL1B9iifqLHGaYJo64JoxjhkviYhlH/REXyzjqj7hYxlF/kYvjsSUAAAAAltB5AAAAAGAJnQcAAAAAltB5AAAAAGAJnQcAAAAAltB5AAAAAGAJnQcAAAAAltB5AAAAAGAJM0wDTYgZLhFL1B9iifpDLFF/kcMM08QR14RxzHBJXCzjqD/iYhlH/REXyzjqL3JxPLYEAAAAwBI6DwAAAAAsofMAAAAAwBI6DwAAAAAsofMAAAAAwBI6DwAAAAAsofMAAAAAwBI6DwAAAAAsYYZpRMW5554b6xTQzERy5k/qD41F/SGWqD/EUmPrjxmmiYtKnNWZHAEp8jN/Un9oDOoPsUT9IZZCqT8eWwIAAABgCZ0HAAAAAJY4Yp0AAEjS4cOHze/79+8fw0zQGlF/iCXqD7HU2PrjzgMAAAAAS+g8AAAAALCEzgMAAAAAS+g8AAAAALCEzgMAAAAASxzS2YkfrCCOuMbEAaEKVGPUH6KN+kMsUX+IJSv155AU1zMVE9c844Bw+Ksx6g9NgfpDLFF/iCUr9cdjSwAAAAAsofMAAAAAwBI6DwAAAAAsofMAAAAAwBI6D2h1bDabbDZbo7dbs2aNfvCDH8jpdOr666/Xvn37NGTIkChkiJakrt5sNpscDofatWunQYMG6dChQ17rre7HF2oRofBVU6GeH4H6PM99TqdTffr0UWFhYazTQgQ4Yp0A0Fzcdtttqqmp0b/+9S85nU61adMm1imhGTEMQ5L0zjvv6LrrrtPkyZP1l7/8xfx5OH7605+GvQ8AiAbDMOR2uzVmzBhNmjRJ559/Phc7mjnuPAAeamtrdd999ykpKUlJSUm677775Ha7lZiYqJqaGknSOeec4zWUGVfp0BiDBw+WJB05ckSS95XesrIyDRkyRD169NDvf/97n1eBd+/erWuuuUY9evTQli1blJiYaK6jFhFJdfW3ceNGtW/fXoMGDdKXX34Z67TQDDkcDs2dO1eStHjxYvPns2bNUnJyspKSklRQUGD+PDk5Wffdd58k6amnnpLNZtPatWu9tpG+r9GioiJdc801SktL06ZNm5qqWa0Wdx4AD3PnztXixYv1yiuvyOl06qabbtJ5552n06dPmx/M6q4U118GrNi9e7ck6fLLL2+w7qGHHtKuXbu0cuVK7dy50+f2r776qpYtW6a+ffvqvvvu81mbQCS98847eu655/Tv//7veuihh7Rs2bJYp4RmqO6ct2vXLknS/Pnz9eSTT+rFF19UQkKCpk6dqvPOO0+zZ8/Wj3/8Y+3du1eStGPHDknSli1blJeXp7179+rHP/6x174PHDigF154QT/5yU80c+ZM3XjjjU3YstbHVl1dzV8bRNy5554btx9kAn3Q6t69u7744gt99913cjgcatOmjX74wx/qf//3f+k8RJHNZjPfAZCkiy++OKz9xVP9+bob8LOf/UxLlizRD37wA686at++vb755ht99913crlcOu+888x1dXE1NTWy2+2y2WxKSEiQy+WiFsPUkusvEF914/mzuu//9a9/yW63q23btjrvvPNUWVnZ9Mm2YC21/vzVV915q0ePHvr888/13XffSZLatm2rbt266fjx45o4caI2btyoqqoqJScnKy0tTSdOnNDJkyfVrl075ebmqrCw0DxGdXW12rVr57V/WBNK/THDNHFRiWuu6m7Jt23b1vzZsWPHYpVOq9USZ1g1DEPbtm1TVlaWvvnmG3Xu3LlBTFVVlSTJ6XTK6XT63I/d/v3TpmfOnIlOsq1cS6w/XxISEnzWUEJCgtey56Nxp0+fjnperV1Lrb/a2lpJ39dT3d9bz3NdWVmZJCktLU01NTUqKCjQmTNnNG3aND300EMqKChQTU1Ng/On5++F82J4mGEaaKS6E1JNTY0MwzBf9AIiYcSIEXr66af13nvv6Te/+U2D9R06dJAkuVwunTp1qqnTQyuTlJQk6fsPdfU/3NWprKw0r+SmpKQ0YYZoSere87r22mslff/31uVymfXVvXt3SdJPfvITSdLatWvVtm1b/epXv9I555yjNWvWSJKuvPLKJs0d3ug8AB5uvfVWSdKqVat05MgR2Ww2XX/99T5j6x4p4UocGuPuu+9W//799fTTT+sf//iH17rc3FxJ0vr16zVr1izL+6QWEYqbb75ZkvT0009LkvnBbOLEiV5xv/nNb/T6669L+r5Ggcaora3VwoULJUm/+tWvJElTp06VJK1cudKsvfz8fEnfX0gpLy/XiBEj5HA4lJmZqfLycklSampqk+YPb3Qe0Gp5jkFd99zkY489pnvvvVczZszQFVdcoZEjR2rdunU+t1+5cqXatm2rn/3sZ02ZNlqAyZMnq6amxhxNpM78+fOVnp6u3/zmN+rXr5+ks6N7BUMtIhS/+93vNHPmTD322GNyOByaMWOGfvGLX+jJJ5/0ivvRj36k2267TUOHDtX8+fNjlC2aq7p5Hj744AOtW7fOHKb14Ycf1q9+9Svdd999mjlzpubMmaNf//rXkqQ+ffqY219zzTWSpPT0dPNnP/rRj5qwBajPVl1dbcTzs/PENc84m80WFy9soXmo/8JW//79fca19Ppr37695syZo3vuuUelpaW68MILdd1115kjNCE6qD/feBG/aVB/iKVQ6o87DwAQJ1555RW98sorSkpKUu/evZWens6wmIiZtm3beg0eAQAS8zwAQNzIzs5WdnZ2rNMAJPEODQDfuPMAAAAAwBI6DwAAAAAscUiyPJ44ccQ1Jg4IVaAao/4QbdQfYon6QyxZqT9mmCYuKnFAOFrqDKtoHqg/xBL1h1hihmkAAAAAEUPnAQAAAIAldB4AAAAAWELnAQAAAIAldB4AAAAAWELnAQAAAIAldB4AAAAAWELnAQAAAIAlzDBNXNTibDabpTigvkjMsEr9IVTUH2KJ+kMsMcM0cTGdYdowDEtxQP0/dJGYYZX6g1XUH2KJ+kMshVJ/PLYEAAAAwBI6DwAAAAAsofMAAAAAwBI6DwAAAAAsofMAAAAAwBI6DwAAAAAsofMAAAAAwBI6DwAAAAAsYYZp4qIWB4QqEjOsAqGi/hBL1B9iiRmmiYvpDNNAqCIxwyoQKuoPsUT9IZaYYRoAAABAxNB5AAAAAGAJnQcAAAAAltB5AAAAAGAJnQcAAAAAltB5AAAAAGAJnQfELZvNFpPjHjlyRL169ZLT6dTAgQO1d+/emOSB2KL+EEuxqj9fKisrdfHFF8c6DTShWNYf9Rb/6DwA9SxcuFB33323XC6XcnNz9fzzz8c6JbQi1B/iyZdffqmRI0fq008/jXUqaAWot+bBLp2d+CHYF3HENTauvmBXMsrKyjRs2DC1a9dOa9eubbDtokWLzKsRZWVlGj58uJxOp4YNG6YTJ05Ikvr06aPjx49LOnsF12azaf/+/ZKk48ePq1evXgFzkKR3331X06ZNkyRNmzZNhw8fDroNIov6o/5iqTXXX31XXHGFpkyZ0ujtELrWXH/UW+xZqT+7dHY2uWBfxBHX2LjGmjt3rqZOnaqqqiodOHCgwfru3bvr6NGjkqQ5c+bo5ptvlsvl0uTJk1VQUCBJysrK0o4dOyRJu3btUrdu3bRz505J0ptvvqnMzEzZbDafX3VKS0vldDolSR06dOAKSAxQf9RfLPgseH4AAA5USURBVLXm+qvv/fff1+233x5SmxCa1lx/1FvsWak/VVdXG1YQR1xj4iR5fV//y5cuXboYNTU1hmEYxjfffNNgH3XrDMMwOnToYC5/9913RkpKimEYhvHWW28ZEyZMMAzDMMaOHWvMmTPHyMjIMJf/9Kc/NSp3wzCMhISEoNsgPJKMQ4cOmV/+UH+IBuqvcW1CZFF/gduA6Aql/mzV1dWGlZ7qqVOnLPVoiSNOOnub82xNBv6ZJ6fTKZfL5TO+/rb1l+u2ra2tVVpamr788kt17dpVx48fV3JysiorK9WxY0edPHlSDocjYO7t2rXzuvVbfxmRZ7PZdOjQIXO5f//+PuOoP0QD9ff9fus0Nn+Ejvqz1gZERyj1xwvTiBupqalyu92SpKqqqoCxKSkpqq2tlSS53W4lJiZKkux2uwYNGqSXX35ZQ4cOlcPh0HXXXac5c+bouuuuk8PhCHrb9MILL1RlZaWZxwUXXBCN5iLOUH+IpXioP8MwzC+0LvFQf2g+6DygyQT7gzR+/HgtX75ckjRv3ryAsWPHjlVxcbEkqbCwUOPHjzfXZWVl6YknntCQIUMkSUOGDNGaNWuUkZFh5uHrq84111yjF154QZL03HPPadCgQY1sKeIR9YdYai71h5aJ+kNExfuz88Q1zziF8LziyZMnjZEjRxrnn3++sXLlygbPXHr66quvjKFDhxoJCQlGRkaGUV5ebq777LPPDEnGZ599ZhiGYbz33nuGJOOvf/2rpTzef/99o2fPnkabNm2MSy65xDh8+HCj24LGURSf+bWK+mu9qL/gQmkTrKH+ItMGhCaU+uOdB+KiEsfzimiMpnjmF/CH+kMsUX+IJd55AAAAABA1dB4AAAAAWOKQZHkYQOKIa0wcEKpANUb9IdqoP8QS9YdYslJ/Dklx/ew8cc0zDgiHvxqj/tAUqD/EEvWHWLJSfzy2BAAAAMASOg8AAAAALKHzgLgV7qyTkZq1srKyUhdffHFE9oXmI1b1R71Bik39HTlyRL169ZLT6dTAgQO1d+/esHJA80X9IRA6D0AAX375pUaOHKlPP/001qmgFaDeEEsLFy7U3XffLZfLpdzcXD3//POxTgmtCPXXfNB5QJMJdiWirKxMw4YNU7t27bR27VqvdZ9++qkuvfRStW/fXkVFRV7bDB8+XE6nU8OGDdOJEycimvMVV1yhKVOmRHSfiI3mUH/UW8vVHOrv3Xff1bRp0yRJ06ZN0+HDh8PaH+IH9YdIovOAuDF37lxNnTpVVVVVOnDggNe6goIC3XXXXdqzZ4/uv/9+8+dz5szRzTffLJfLpcmTJ6ugoCDgMWw2m88vf95//33dfvvt4TUMzUI81B/11nrFQ/2VlpbK6XRKkjp06MAdsFaE+kNj2Kqrq414HvKTuOYZZ7PZZBiG+X19des8de3aVaWlpbLb7aqsrFRKSooZl5ycrJMnT8rhcHht07FjR5WXl8tut8vlcqlLly76+uuvG+QQrkjuCw3ZbDYdOnTIXO7fv7/PuNZSf9Rb06L+GuYtSU6nUy6Xq1H7QONRfw3zlqi/phJK/Tl8RgAR5HkSC3QyqaiokN1+9mZYcnKy17pvv/22wYmr/jZOpzOsCXQ8T7J8cGs5mkv9oWVqTvV3zjnneC37OiaaF+oP0cAM08RFLa6xUlNT5Xa75XA4VFVV5bXuvPPOM9d5SklJUW1trex2u9xutxITEwMew98jSoZh0GGII7GYYTXW9Yf40Vrr78ILL1RlZaWSk5NVVVWlCy64IIwWIVTUH/UXS8wwTVxczTAd7APS+PHjtXz5cuXn52vevHle60aMGKG1a9fqyiuv1OjRo/XJJ59IksaOHavi4mJlZ2ersLBQ48ePDysHxIdozLBK/cGq1lp/11xzjV544QX9+te/1nPPPadBgwZZaBkijfqj/mLJUv1VV1cbVhBHXGPiJFmK83Ty5Elj5MiRxvnnn2+sXLnSax+ffPKJ0bt3b6NTp05GSUmJ+fOvvvrKGDp0qJGQkGBkZGQY5eXlYeXgTyT3hYYkGYcOHTK//Gkt9Ue9NS3q76z333/f6Nmzp9GmTRvjkksuMQ4fPtzofaDxqL+zqL/YCKX+eGGauKjE8cInGiOaLwwCwVB/iCXqD7EUSv0xVCsAAAAAS+g8AAAAALCEzgMAAAAAS+g8AAAAALCEzgMAAAAAS+g8AAAAALCEGaaJi1ocEKpYzLAK1KH+EEvUH2KJGaaJi6sZpgGrojHDKmAV9YdYov4QS1bqj8eWAAAAAFhC5wEAAACAJXQeAAAAAFhC5wEAAACAJXQeAAAAAFhC5wEAAACAJXQeAAAAAFhC5wEAAACAJcwwTVzU4mw2m6U4oL5IzLBK/SFU1B9iifpDLDHDNHExnWHaMAxLcUD9P3SRmGGV+oNV1B9iifpDLIVSfzy2BAAAAMASOg8AAAAALKHzAAAAAMASOg8AAAAALKHzAAAAAMASOg8AAAAALKHzAAAAAMASOg8AAAAALGGGaeKiFgeEKhIzrAKhov4QS9QfYokZpomL6QzTQKgiMcMqECrqD7FE/SGWmGEaAAAAQMTQeQAAAABgCZ0HAAAAAJbQeUCrUVtbG5fHi3Ze8ZJHa0f9xTaP1o76i20erR31F9s8Io3OA5olm83W6LiBAwdG5NgbN25UXl5e0Dirxws3r2PHjikzM1OJiYlKSkrS3XffraqqqqjkkZeXp02bNoWca0tB/X2P+mt61N/3qL+mR/19r9XWX3V1tWEFccQ1Jk6SpbimFImczpw5Y1xyySVGeXl5xI4Xbl5XX3218eKLLxo1NTXGd999Z8yZM8eYMWNGVPIoLy83+vbta5w5cybkfP0d+9ChQ+aXP9Qf9Uf9hYb6Cz8P6i901F/4ecRT/XHnAc2S5xUNm82mRYsW6aKLLpLT6dTWrVsbxNX/b6iWL1+unJwcpaamSpKKi4vldDrlcDg0YMAA7d692+fx9u/fr4EDB8rpdKpr165as2aNz7iKigplZWXJ6XQqMzNTFRUVPtvs6YMPPlB+fr7sdrucTqfmz5+vlStXRiWP1NRUZWZmavny5WH9Hps76u971F/To/6+R/01Perve622/uL9CjZxzTNOUb7y4bl/ScaDDz5o1NTUGCUlJUZCQoLfuHCNHDnS2LVrl7mckJBgrF692jAMw3jrrbeMnj17+jxe3759jZ07dxqGYRh//OMfjZSUFJ9x06dPNz7//HPDMAzjjTfeMGbOnBk0p5///OfGQw89ZLz66qvG//zP/zRYH+k8du3aZYwaNSpoXo2hZnbljfr7HvXne3/RRP19j/rzvb9oov6+11rrz1ZdXW1Er2uC1urcc8/V2ZqMDpvNZu7fZrPpzJkzcjgcPtf5+j5USUlJOnnypJxOpyQpOztbKSkpuvXWWzV06FAzh2DH85dX586dVVZWZsalpaWptLQ0YE4VFRV64IEH9PHHH2vv3r3q1auX1q1bpwEDBkQlD9f/1979u6T3R3EcP/64GUY51OLcECb+AUGBQxTk6BK1tEvQ0NAfUFA0SDT5BzQ0NlRDEA0NbUFOQVtQy52EGybS+zP4/ZqGP97qvb2v+XyAw83jvQd5EZx779tbqcjMzIyUSqWOffUiEAjI09NTfXt2dnag/ZE/8tcL8qeH/JE/EfLXaGTz5/cz2NQNZ538N0WLSP3lJulwRqPde270EAqFmrZt21bLy8vKsiw1OTmpHh8fWx7Ptm21v7+v1tfXVSKR6Nhj4+vn8br5/PxU+XxeJZNJT/toPLvkBvHozBv5+64jf+2RPz3kr4b8kb9WRil/rHmAp5RS9ddfEI1GpVKp1Lenp6fl5uZGyuWynJycSCaTafm5tbU1CQaDsrm5KdfX1233H4vFmr6zarXataepqan6z7yNjY3Jzs6OvLy8eNZHpVKR8fHxrn35AfmrIX9mkL8a8mcG+ashf+5jeMDIsCyr6SfU+pFOp+X29ra+PT8/L1dXVxIMBiUejzddamw8XrFYlGw2KysrK5LP59v2tbGxIa+vryIicn5+LgsLC1172trakoODAymVSvL19SVHR0eytLTkWR93d3eSTqe79oVm5I/8mUT+yJ9J5O+P5c/vt79QN5x18ssLtnTey2azKhKJDHTcQqGgcrlcffvh4UElk0kVCoWUZVnq8vKy5fEuLi5UIpFQsVhMnZ6etu3Ltm21urqqLMtSqVSqaQFWu+/UcRy1vb2tJiYmVCQSUZlMRr29vXnWRy6XU4VCofcvrwMZ8gWDOu+RP/LnFvL3jfy13p+XyN+3Uc1fwHEcFY1Guw4ZHx8fQh11unVuLI7yo2q1KnNzc3J/fy/xeNx0O7/u/f1dFhcX5fn5uWlx2qB+LthKpVIt68gf+SN/5pA/8mcS+fNP/tw7OtCjfu/bK5fLxo4bDofl8PBQdnd35ezsbKA+htHe3p4cHx+7+o/LFPI3fMgf+TOJ/JE/k/yUP648UOdJ3V898wFvcOYNJpE/mET+YFI/+WPBNAAAAAAtDA8AAAAAtIRFapcidFBHXS91QL86ZYz8wWvkDyaRP5ikk7+wiPj63nnqhrMOGES7jJE//AbyB5PIH0zSyR+3LQEAAADQwvAAAAAAQAvDAwAAAAAtDA8AAAAAtDA8AAAAANDC8AAAAABAC8MDAAAAAC0MDwAAAAC08IRp6jyrCwQCWnXAT248YZX8oV/kDyaRP5jEE6apM1bnOE5TXbFY7PoZ4H+DPmGV/GEQ5A8mkT+YxBOmAQAAALiG4QEAAACAlrDpBjAaUqlUy7/7/fYr6vxV1y/yR50bdf0if9S5Udcv8kedG3WNuPIAAAAAQAvDAwAAAAAtDA8AAAAAtDA8AAAAANDC8AAAAABAS8BxHGW6CQAAAAD+9w+GVXMl5KTqawAAAABJRU5ErkJggg==)"
   ],
   "metadata": {
    "id": "EhjUmr_6wJJd"
   }
  }
 ],
 "metadata": {
  "colab": {
   "collapsed_sections": [],
   "name": "topic3_sliding_puzzle.ipynb",
   "provenance": []
  },
  "kernelspec": {
   "display_name": "Python 3",
   "language": "python",
   "name": "python3"
  },
  "language_info": {
   "codemirror_mode": {
    "name": "ipython",
    "version": 3
   },
   "file_extension": ".py",
   "mimetype": "text/x-python",
   "name": "python",
   "nbconvert_exporter": "python",
   "pygments_lexer": "ipython3",
   "version": "3.8.8"
  }
 },
 "nbformat": 4,
 "nbformat_minor": 0
}
